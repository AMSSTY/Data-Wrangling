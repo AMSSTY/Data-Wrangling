{
 "cells": [
  {
   "cell_type": "code",
   "execution_count": 1121,
   "metadata": {},
   "outputs": [],
   "source": [
    "import seaborn as sns\n",
    "import matplotlib.pyplot as plt\n",
    "import numpy as np\n",
    "import pandas as pd\n",
    "import requests as rq\n",
    "import json\n",
    "from timeit import default_timer as timer\n",
    "%matplotlib inline"
   ]
  },
  {
   "cell_type": "markdown",
   "metadata": {},
   "source": [
    "# 1 - Gathering Data for this Project\n",
    "\n",
    "Gather each of the three pieces of data as described below in a Jupyter Notebook titled wrangle_act.ipynb:\n",
    "\n",
    "    The WeRateDogs Twitter archive. I am giving this file to you, so imagine it as a file on hand. Download this file manually by clicking the following link: \n",
    "    \n",
    "   ## 1.1 - Twitter_archive_enhanced.csv\n",
    "   File downloaded manually to library and is going to be referenced as **archive**"
   ]
  },
  {
   "cell_type": "code",
   "execution_count": 1122,
   "metadata": {},
   "outputs": [
    {
     "data": {
      "text/html": [
       "<div>\n",
       "<style scoped>\n",
       "    .dataframe tbody tr th:only-of-type {\n",
       "        vertical-align: middle;\n",
       "    }\n",
       "\n",
       "    .dataframe tbody tr th {\n",
       "        vertical-align: top;\n",
       "    }\n",
       "\n",
       "    .dataframe thead th {\n",
       "        text-align: right;\n",
       "    }\n",
       "</style>\n",
       "<table border=\"1\" class=\"dataframe\">\n",
       "  <thead>\n",
       "    <tr style=\"text-align: right;\">\n",
       "      <th></th>\n",
       "      <th>tweet_id</th>\n",
       "      <th>in_reply_to_status_id</th>\n",
       "      <th>in_reply_to_user_id</th>\n",
       "      <th>timestamp</th>\n",
       "      <th>source</th>\n",
       "      <th>text</th>\n",
       "      <th>retweeted_status_id</th>\n",
       "      <th>retweeted_status_user_id</th>\n",
       "      <th>retweeted_status_timestamp</th>\n",
       "      <th>expanded_urls</th>\n",
       "      <th>rating_numerator</th>\n",
       "      <th>rating_denominator</th>\n",
       "      <th>name</th>\n",
       "      <th>doggo</th>\n",
       "      <th>floofer</th>\n",
       "      <th>pupper</th>\n",
       "      <th>puppo</th>\n",
       "    </tr>\n",
       "  </thead>\n",
       "  <tbody>\n",
       "    <tr>\n",
       "      <th>1377</th>\n",
       "      <td>701601587219795968</td>\n",
       "      <td>NaN</td>\n",
       "      <td>NaN</td>\n",
       "      <td>2016-02-22 02:57:08 +0000</td>\n",
       "      <td>&lt;a href=\"http://twitter.com/download/iphone\" r...</td>\n",
       "      <td>This is Coopson. He's a Blingin Schnitzel. Bui...</td>\n",
       "      <td>NaN</td>\n",
       "      <td>NaN</td>\n",
       "      <td>NaN</td>\n",
       "      <td>https://twitter.com/dog_rates/status/701601587...</td>\n",
       "      <td>10</td>\n",
       "      <td>10</td>\n",
       "      <td>Coopson</td>\n",
       "      <td>None</td>\n",
       "      <td>None</td>\n",
       "      <td>None</td>\n",
       "      <td>None</td>\n",
       "    </tr>\n",
       "    <tr>\n",
       "      <th>1381</th>\n",
       "      <td>700890391244103680</td>\n",
       "      <td>NaN</td>\n",
       "      <td>NaN</td>\n",
       "      <td>2016-02-20 03:51:05 +0000</td>\n",
       "      <td>&lt;a href=\"http://twitter.com/download/iphone\" r...</td>\n",
       "      <td>This is Chet. He's dapper af. His owners want ...</td>\n",
       "      <td>NaN</td>\n",
       "      <td>NaN</td>\n",
       "      <td>NaN</td>\n",
       "      <td>https://twitter.com/dog_rates/status/700890391...</td>\n",
       "      <td>11</td>\n",
       "      <td>10</td>\n",
       "      <td>Chet</td>\n",
       "      <td>None</td>\n",
       "      <td>None</td>\n",
       "      <td>None</td>\n",
       "      <td>None</td>\n",
       "    </tr>\n",
       "    <tr>\n",
       "      <th>1571</th>\n",
       "      <td>687704180304273409</td>\n",
       "      <td>NaN</td>\n",
       "      <td>NaN</td>\n",
       "      <td>2016-01-14 18:33:48 +0000</td>\n",
       "      <td>&lt;a href=\"http://twitter.com/download/iphone\" r...</td>\n",
       "      <td>Say hello to Blakely. He thinks that's a hat. ...</td>\n",
       "      <td>NaN</td>\n",
       "      <td>NaN</td>\n",
       "      <td>NaN</td>\n",
       "      <td>https://twitter.com/dog_rates/status/687704180...</td>\n",
       "      <td>9</td>\n",
       "      <td>10</td>\n",
       "      <td>Blakely</td>\n",
       "      <td>None</td>\n",
       "      <td>None</td>\n",
       "      <td>pupper</td>\n",
       "      <td>None</td>\n",
       "    </tr>\n",
       "  </tbody>\n",
       "</table>\n",
       "</div>"
      ],
      "text/plain": [
       "                tweet_id  in_reply_to_status_id  in_reply_to_user_id  \\\n",
       "1377  701601587219795968                    NaN                  NaN   \n",
       "1381  700890391244103680                    NaN                  NaN   \n",
       "1571  687704180304273409                    NaN                  NaN   \n",
       "\n",
       "                      timestamp  \\\n",
       "1377  2016-02-22 02:57:08 +0000   \n",
       "1381  2016-02-20 03:51:05 +0000   \n",
       "1571  2016-01-14 18:33:48 +0000   \n",
       "\n",
       "                                                 source  \\\n",
       "1377  <a href=\"http://twitter.com/download/iphone\" r...   \n",
       "1381  <a href=\"http://twitter.com/download/iphone\" r...   \n",
       "1571  <a href=\"http://twitter.com/download/iphone\" r...   \n",
       "\n",
       "                                                   text  retweeted_status_id  \\\n",
       "1377  This is Coopson. He's a Blingin Schnitzel. Bui...                  NaN   \n",
       "1381  This is Chet. He's dapper af. His owners want ...                  NaN   \n",
       "1571  Say hello to Blakely. He thinks that's a hat. ...                  NaN   \n",
       "\n",
       "      retweeted_status_user_id retweeted_status_timestamp  \\\n",
       "1377                       NaN                        NaN   \n",
       "1381                       NaN                        NaN   \n",
       "1571                       NaN                        NaN   \n",
       "\n",
       "                                          expanded_urls  rating_numerator  \\\n",
       "1377  https://twitter.com/dog_rates/status/701601587...                10   \n",
       "1381  https://twitter.com/dog_rates/status/700890391...                11   \n",
       "1571  https://twitter.com/dog_rates/status/687704180...                 9   \n",
       "\n",
       "      rating_denominator     name doggo floofer  pupper puppo  \n",
       "1377                  10  Coopson  None    None    None  None  \n",
       "1381                  10     Chet  None    None    None  None  \n",
       "1571                  10  Blakely  None    None  pupper  None  "
      ]
     },
     "execution_count": 1122,
     "metadata": {},
     "output_type": "execute_result"
    }
   ],
   "source": [
    "archive = pd.read_csv('twitter-archive-enhanced.csv')\n",
    "archive.sample(3)"
   ]
  },
  {
   "cell_type": "markdown",
   "metadata": {},
   "source": [
    "## 1.2 - Image_prediction_tsv\n",
    "The tweet image predictions, i.e., what breed of dog (or other object, animal, etc.) is present in each tweet according to a neural network. This file (image_predictions.tsv) is hosted on Udacity's servers and should be downloaded programmatically using the Requests library and the following \n",
    "URL: https://d17h27t6h515a5.cloudfront.net/topher/2017/August/599fd2ad_image-predictions/image-predictions.tsv\n",
    "\n",
    "This file is downlaoded programmiticaly and well be referenced as **image_prediction**"
   ]
  },
  {
   "cell_type": "code",
   "execution_count": 1123,
   "metadata": {},
   "outputs": [
    {
     "data": {
      "text/html": [
       "<div>\n",
       "<style scoped>\n",
       "    .dataframe tbody tr th:only-of-type {\n",
       "        vertical-align: middle;\n",
       "    }\n",
       "\n",
       "    .dataframe tbody tr th {\n",
       "        vertical-align: top;\n",
       "    }\n",
       "\n",
       "    .dataframe thead th {\n",
       "        text-align: right;\n",
       "    }\n",
       "</style>\n",
       "<table border=\"1\" class=\"dataframe\">\n",
       "  <thead>\n",
       "    <tr style=\"text-align: right;\">\n",
       "      <th></th>\n",
       "      <th>tweet_id</th>\n",
       "      <th>jpg_url</th>\n",
       "      <th>img_num</th>\n",
       "      <th>p1</th>\n",
       "      <th>p1_conf</th>\n",
       "      <th>p1_dog</th>\n",
       "      <th>p2</th>\n",
       "      <th>p2_conf</th>\n",
       "      <th>p2_dog</th>\n",
       "      <th>p3</th>\n",
       "      <th>p3_conf</th>\n",
       "      <th>p3_dog</th>\n",
       "    </tr>\n",
       "  </thead>\n",
       "  <tbody>\n",
       "    <tr>\n",
       "      <th>1063</th>\n",
       "      <td>715342466308784130</td>\n",
       "      <td>https://pbs.twimg.com/media/Ce1oLNqWAAE34w7.jpg</td>\n",
       "      <td>1</td>\n",
       "      <td>West_Highland_white_terrier</td>\n",
       "      <td>0.597111</td>\n",
       "      <td>True</td>\n",
       "      <td>soft-coated_wheaten_terrier</td>\n",
       "      <td>0.142993</td>\n",
       "      <td>True</td>\n",
       "      <td>Lakeland_terrier</td>\n",
       "      <td>0.136712</td>\n",
       "      <td>True</td>\n",
       "    </tr>\n",
       "    <tr>\n",
       "      <th>652</th>\n",
       "      <td>682032003584274432</td>\n",
       "      <td>https://pbs.twimg.com/media/CXcQfUNUQAEwFoQ.jpg</td>\n",
       "      <td>1</td>\n",
       "      <td>schipperke</td>\n",
       "      <td>0.997953</td>\n",
       "      <td>True</td>\n",
       "      <td>groenendael</td>\n",
       "      <td>0.000676</td>\n",
       "      <td>True</td>\n",
       "      <td>miniature_pinscher</td>\n",
       "      <td>0.000211</td>\n",
       "      <td>True</td>\n",
       "    </tr>\n",
       "    <tr>\n",
       "      <th>94</th>\n",
       "      <td>667550882905632768</td>\n",
       "      <td>https://pbs.twimg.com/media/CUObvUJVEAAnYPF.jpg</td>\n",
       "      <td>1</td>\n",
       "      <td>web_site</td>\n",
       "      <td>0.998258</td>\n",
       "      <td>False</td>\n",
       "      <td>dishwasher</td>\n",
       "      <td>0.000201</td>\n",
       "      <td>False</td>\n",
       "      <td>oscilloscope</td>\n",
       "      <td>0.000142</td>\n",
       "      <td>False</td>\n",
       "    </tr>\n",
       "  </tbody>\n",
       "</table>\n",
       "</div>"
      ],
      "text/plain": [
       "                tweet_id                                          jpg_url  \\\n",
       "1063  715342466308784130  https://pbs.twimg.com/media/Ce1oLNqWAAE34w7.jpg   \n",
       "652   682032003584274432  https://pbs.twimg.com/media/CXcQfUNUQAEwFoQ.jpg   \n",
       "94    667550882905632768  https://pbs.twimg.com/media/CUObvUJVEAAnYPF.jpg   \n",
       "\n",
       "      img_num                           p1   p1_conf  p1_dog  \\\n",
       "1063        1  West_Highland_white_terrier  0.597111    True   \n",
       "652         1                   schipperke  0.997953    True   \n",
       "94          1                     web_site  0.998258   False   \n",
       "\n",
       "                               p2   p2_conf  p2_dog                  p3  \\\n",
       "1063  soft-coated_wheaten_terrier  0.142993    True    Lakeland_terrier   \n",
       "652                   groenendael  0.000676    True  miniature_pinscher   \n",
       "94                     dishwasher  0.000201   False        oscilloscope   \n",
       "\n",
       "       p3_conf  p3_dog  \n",
       "1063  0.136712    True  \n",
       "652   0.000211    True  \n",
       "94    0.000142   False  "
      ]
     },
     "execution_count": 1123,
     "metadata": {},
     "output_type": "execute_result"
    }
   ],
   "source": [
    "url = 'https://d17h27t6h515a5.cloudfront.net/topher/2017/August/599fd2ad_image-predictions/image-predictions.tsv'\n",
    "image_prediction_temp = rq.get(url)\n",
    "\n",
    "with open('image_predictions.tsv', mode ='wb') as file:\n",
    "    file.write(image_prediction_temp.content)\n",
    "    \n",
    "image_prediction = pd.read_csv('image_predictions.tsv' , sep='\\t')\n",
    "image_prediction.sample(3)"
   ]
  },
  {
   "cell_type": "markdown",
   "metadata": {},
   "source": [
    "## 1.3 - 'Accessing Project Data Without a Twitter Account'\n",
    "\n",
    "Due to twitter account access limitations, (Developer account request not approved) ,  the following code cell is commented out, it exists for readability, json data will be accessed using the json file provided in Twitter API section. "
   ]
  },
  {
   "cell_type": "code",
   "execution_count": 1124,
   "metadata": {},
   "outputs": [],
   "source": [
    "# Query Twitter API for each tweet in the Twitter archive and save JSON in a text file\n",
    "# These are hidden to comply with Twitter's API terms and conditions\n",
    "#consumer_key = 'HIDDEN'\n",
    "#consumer_secret = 'HIDDEN'\n",
    "#access_token = 'HIDDEN'\n",
    "#access_secret = 'HIDDEN'\n",
    "\n",
    "\n",
    "#auth = OAuthHandler(consumer_key, consumer_secret)\n",
    "#auth.set_access_token(access_token, access_secret)\n",
    "\n",
    "#api = tweepy.API(auth, wait_on_rate_limit=True)\n",
    "\n",
    "# NOTE TO STUDENT WITH MOBILE VERIFICATION ISSUES:\n",
    "# df_1 is a DataFrame with the twitter_archive_enhanced.csv file. You may have to\n",
    "# change line 17 to match the name of your DataFrame with twitter_archive_enhanced.csv\n",
    "# NOTE TO REVIEWER: this student had mobile verification issues so the following\n",
    "# Twitter API code was sent to this student from a Udacity instructor\n",
    "# Tweet IDs for which to gather additional data via Twitter's API\n",
    "#tweet_ids = df_1.tweet_id.values\n",
    "#len(tweet_ids)\n",
    "\n",
    "# Query Twitter's API for JSON data for each tweet ID in the Twitter archive\n",
    "#count = 0\n",
    "#fails_dict = {}\n",
    "#start = timer()\n",
    "#Save each tweet's returned JSON as a new line in a .txt file\n",
    "#    with open('tweet_json.txt', 'w') as outfile:\n",
    "#    This loop will likely take 20-30 minutes to run because of Twitter's rate limit\n",
    "#    for tweet_id in tweet_ids:\n",
    "#       count += 1\n",
    "#       print(str(count) + \": \" + str(tweet_id))\n",
    "#       try:\n",
    "#          tweet = api.get_status(tweet_id, tweet_mode='extended')\n",
    "#          print(\"Success\")\n",
    "#          json.dump(tweet._json, outfile)\n",
    "#          outfile.write('\\n')\n",
    "#       except tweepy.TweepError as e:\n",
    "#          print(\"Fail\")\n",
    "#          fails_dict[tweet_id] = e\n",
    "#          pass\n",
    "#end = timer()\n",
    "#print(end - start)\n",
    "#print(fails_dict)"
   ]
  },
  {
   "cell_type": "markdown",
   "metadata": {},
   "source": [
    "## 1.3.1 - Json - Data file \n",
    "Each tweet's retweet count and favorite (\"like\") count at minimum, and any additional data you find interesting. This is considered as the API json file and will be referenced as **tweet_df**. "
   ]
  },
  {
   "cell_type": "code",
   "execution_count": 1125,
   "metadata": {},
   "outputs": [
    {
     "data": {
      "text/html": [
       "<div>\n",
       "<style scoped>\n",
       "    .dataframe tbody tr th:only-of-type {\n",
       "        vertical-align: middle;\n",
       "    }\n",
       "\n",
       "    .dataframe tbody tr th {\n",
       "        vertical-align: top;\n",
       "    }\n",
       "\n",
       "    .dataframe thead th {\n",
       "        text-align: right;\n",
       "    }\n",
       "</style>\n",
       "<table border=\"1\" class=\"dataframe\">\n",
       "  <thead>\n",
       "    <tr style=\"text-align: right;\">\n",
       "      <th></th>\n",
       "      <th>favorite_count</th>\n",
       "      <th>full_text</th>\n",
       "      <th>retweet_count</th>\n",
       "      <th>tweet_id</th>\n",
       "    </tr>\n",
       "  </thead>\n",
       "  <tbody>\n",
       "    <tr>\n",
       "      <th>331</th>\n",
       "      <td>0</td>\n",
       "      <td>RT @EmilieGambril: 12/10 h*cking excited about...</td>\n",
       "      <td>43</td>\n",
       "      <td>832769181346996225</td>\n",
       "    </tr>\n",
       "    <tr>\n",
       "      <th>221</th>\n",
       "      <td>0</td>\n",
       "      <td>RT @dog_rates: This is Gidget. She's a spy pup...</td>\n",
       "      <td>5513</td>\n",
       "      <td>849668094696017920</td>\n",
       "    </tr>\n",
       "    <tr>\n",
       "      <th>1563</th>\n",
       "      <td>1878</td>\n",
       "      <td>This is Kilo. He's a Pouncing Brioche. Really ...</td>\n",
       "      <td>408</td>\n",
       "      <td>688064179421470721</td>\n",
       "    </tr>\n",
       "  </tbody>\n",
       "</table>\n",
       "</div>"
      ],
      "text/plain": [
       "      favorite_count                                          full_text  \\\n",
       "331                0  RT @EmilieGambril: 12/10 h*cking excited about...   \n",
       "221                0  RT @dog_rates: This is Gidget. She's a spy pup...   \n",
       "1563            1878  This is Kilo. He's a Pouncing Brioche. Really ...   \n",
       "\n",
       "      retweet_count            tweet_id  \n",
       "331              43  832769181346996225  \n",
       "221            5513  849668094696017920  \n",
       "1563            408  688064179421470721  "
      ]
     },
     "execution_count": 1125,
     "metadata": {},
     "output_type": "execute_result"
    }
   ],
   "source": [
    "# appending json file contents into a list\n",
    "tweet_df = []\n",
    "with open('tweet_json.txt', 'r') as tweet_file:\n",
    "    for item in tweet_file:\n",
    "        status = json.loads(item)\n",
    "        tweet_df.append({'tweet_id': status['id'],\n",
    "                        'retweet_count': status['retweet_count'],\n",
    "                        'favorite_count': status['favorite_count'],\n",
    "                         'full_text': status['full_text']\n",
    "                       })\n",
    "        \n",
    "# Tweet json file will be converted into a data frame\n",
    "tweet_df = pd.DataFrame(tweet_df)\n",
    "tweet_df.sample(3)"
   ]
  },
  {
   "cell_type": "markdown",
   "metadata": {},
   "source": [
    "# 2 - Quality , Tideness Assesment section\n",
    "Assessing Data for this Project\n",
    "\n",
    "After gathering each of the above pieces of data, assess them visually and programmatically for quality and tidiness issues. Detect and document at least eight (8) quality issues and two (2) tidiness issues in your wrangle_act.ipynb Jupyter Notebook. To meet specifications, the issues that satisfy the Project Motivation (see the Key Points header on the previous page) must be assessed."
   ]
  },
  {
   "cell_type": "markdown",
   "metadata": {},
   "source": [
    "**Quality testing:**\n",
    "- Archive Datatype incorrect (tweet_id , timestamp)\n",
    "- Columns (in_reply_to_status_id , in_reply_to_user_id  , retweeted_status_id , retweeted_status_user_id), need to be removed as they are linked to retweets.\n",
    "- Retweets are not valid oringinal tweets, need removal. \n",
    "- Null Values: many columns tend to have alot of null values.\n",
    "- Source column shows a hyberlink, needs to remove the link and exctract the real source. \n",
    "- Name column contains Nulls and non-correct names.  \n",
    "- Image prediction tweet id is of type int, should be str. \n",
    "- Image prediction contains records of non - dogs. (removal)\n",
    "- Json file tweet_di is of type int, should be str.\n",
    "- text & full_text columns are indentical, one should be removed when merged. \n",
    "\n",
    "**Tidness testing**\n",
    "- Id columns dont match between tables, so number of recrods. \n",
    "- Columns ( doggo , floofer , pupper , puppo ) should be combined into a catergorial type (stages). "
   ]
  },
  {
   "cell_type": "markdown",
   "metadata": {},
   "source": [
    "## **2.1 - Archive**\n",
    "\n",
    "We would take a look into the table sample to understand its structure, then info function will show more about it. Describe funciton is an other usefull tool. This mothod will be applied for all tables. "
   ]
  },
  {
   "cell_type": "code",
   "execution_count": 1126,
   "metadata": {
    "scrolled": false
   },
   "outputs": [
    {
     "data": {
      "text/html": [
       "<div>\n",
       "<style scoped>\n",
       "    .dataframe tbody tr th:only-of-type {\n",
       "        vertical-align: middle;\n",
       "    }\n",
       "\n",
       "    .dataframe tbody tr th {\n",
       "        vertical-align: top;\n",
       "    }\n",
       "\n",
       "    .dataframe thead th {\n",
       "        text-align: right;\n",
       "    }\n",
       "</style>\n",
       "<table border=\"1\" class=\"dataframe\">\n",
       "  <thead>\n",
       "    <tr style=\"text-align: right;\">\n",
       "      <th></th>\n",
       "      <th>tweet_id</th>\n",
       "      <th>in_reply_to_status_id</th>\n",
       "      <th>in_reply_to_user_id</th>\n",
       "      <th>timestamp</th>\n",
       "      <th>source</th>\n",
       "      <th>text</th>\n",
       "      <th>retweeted_status_id</th>\n",
       "      <th>retweeted_status_user_id</th>\n",
       "      <th>retweeted_status_timestamp</th>\n",
       "      <th>expanded_urls</th>\n",
       "      <th>rating_numerator</th>\n",
       "      <th>rating_denominator</th>\n",
       "      <th>name</th>\n",
       "      <th>doggo</th>\n",
       "      <th>floofer</th>\n",
       "      <th>pupper</th>\n",
       "      <th>puppo</th>\n",
       "    </tr>\n",
       "  </thead>\n",
       "  <tbody>\n",
       "    <tr>\n",
       "      <th>274</th>\n",
       "      <td>840698636975636481</td>\n",
       "      <td>8.406983e+17</td>\n",
       "      <td>8.405479e+17</td>\n",
       "      <td>2017-03-11 22:59:09 +0000</td>\n",
       "      <td>&lt;a href=\"http://twitter.com/download/iphone\" r...</td>\n",
       "      <td>@0_kelvin_0 &amp;gt;10/10 is reserved for puppos s...</td>\n",
       "      <td>NaN</td>\n",
       "      <td>NaN</td>\n",
       "      <td>NaN</td>\n",
       "      <td>NaN</td>\n",
       "      <td>10</td>\n",
       "      <td>10</td>\n",
       "      <td>None</td>\n",
       "      <td>None</td>\n",
       "      <td>None</td>\n",
       "      <td>None</td>\n",
       "      <td>None</td>\n",
       "    </tr>\n",
       "    <tr>\n",
       "      <th>1616</th>\n",
       "      <td>685198997565345792</td>\n",
       "      <td>NaN</td>\n",
       "      <td>NaN</td>\n",
       "      <td>2016-01-07 20:39:06 +0000</td>\n",
       "      <td>&lt;a href=\"http://twitter.com/download/iphone\" r...</td>\n",
       "      <td>This is Alfie. That is his time machine. He's ...</td>\n",
       "      <td>NaN</td>\n",
       "      <td>NaN</td>\n",
       "      <td>NaN</td>\n",
       "      <td>https://twitter.com/dog_rates/status/685198997...</td>\n",
       "      <td>11</td>\n",
       "      <td>10</td>\n",
       "      <td>Alfie</td>\n",
       "      <td>None</td>\n",
       "      <td>None</td>\n",
       "      <td>None</td>\n",
       "      <td>None</td>\n",
       "    </tr>\n",
       "    <tr>\n",
       "      <th>882</th>\n",
       "      <td>760290219849637889</td>\n",
       "      <td>NaN</td>\n",
       "      <td>NaN</td>\n",
       "      <td>2016-08-02 01:44:48 +0000</td>\n",
       "      <td>&lt;a href=\"http://twitter.com\" rel=\"nofollow\"&gt;Tw...</td>\n",
       "      <td>This is Rocco. He's doing his best. 13/10 some...</td>\n",
       "      <td>NaN</td>\n",
       "      <td>NaN</td>\n",
       "      <td>NaN</td>\n",
       "      <td>https://twitter.com/dog_rates/status/760290219...</td>\n",
       "      <td>13</td>\n",
       "      <td>10</td>\n",
       "      <td>Rocco</td>\n",
       "      <td>None</td>\n",
       "      <td>None</td>\n",
       "      <td>None</td>\n",
       "      <td>None</td>\n",
       "    </tr>\n",
       "    <tr>\n",
       "      <th>1042</th>\n",
       "      <td>743895849529389061</td>\n",
       "      <td>NaN</td>\n",
       "      <td>NaN</td>\n",
       "      <td>2016-06-17 19:59:26 +0000</td>\n",
       "      <td>&lt;a href=\"http://twitter.com/download/iphone\" r...</td>\n",
       "      <td>When you're given AUX cord privileges from the...</td>\n",
       "      <td>NaN</td>\n",
       "      <td>NaN</td>\n",
       "      <td>NaN</td>\n",
       "      <td>https://twitter.com/dog_rates/status/743895849...</td>\n",
       "      <td>10</td>\n",
       "      <td>10</td>\n",
       "      <td>None</td>\n",
       "      <td>None</td>\n",
       "      <td>None</td>\n",
       "      <td>None</td>\n",
       "      <td>None</td>\n",
       "    </tr>\n",
       "    <tr>\n",
       "      <th>2324</th>\n",
       "      <td>666421158376562688</td>\n",
       "      <td>NaN</td>\n",
       "      <td>NaN</td>\n",
       "      <td>2015-11-17 01:02:40 +0000</td>\n",
       "      <td>&lt;a href=\"http://twitter.com/download/iphone\" r...</td>\n",
       "      <td>*internally screaming* 12/10 https://t.co/YMcr...</td>\n",
       "      <td>NaN</td>\n",
       "      <td>NaN</td>\n",
       "      <td>NaN</td>\n",
       "      <td>https://twitter.com/dog_rates/status/666421158...</td>\n",
       "      <td>12</td>\n",
       "      <td>10</td>\n",
       "      <td>None</td>\n",
       "      <td>None</td>\n",
       "      <td>None</td>\n",
       "      <td>None</td>\n",
       "      <td>None</td>\n",
       "    </tr>\n",
       "  </tbody>\n",
       "</table>\n",
       "</div>"
      ],
      "text/plain": [
       "                tweet_id  in_reply_to_status_id  in_reply_to_user_id  \\\n",
       "274   840698636975636481           8.406983e+17         8.405479e+17   \n",
       "1616  685198997565345792                    NaN                  NaN   \n",
       "882   760290219849637889                    NaN                  NaN   \n",
       "1042  743895849529389061                    NaN                  NaN   \n",
       "2324  666421158376562688                    NaN                  NaN   \n",
       "\n",
       "                      timestamp  \\\n",
       "274   2017-03-11 22:59:09 +0000   \n",
       "1616  2016-01-07 20:39:06 +0000   \n",
       "882   2016-08-02 01:44:48 +0000   \n",
       "1042  2016-06-17 19:59:26 +0000   \n",
       "2324  2015-11-17 01:02:40 +0000   \n",
       "\n",
       "                                                 source  \\\n",
       "274   <a href=\"http://twitter.com/download/iphone\" r...   \n",
       "1616  <a href=\"http://twitter.com/download/iphone\" r...   \n",
       "882   <a href=\"http://twitter.com\" rel=\"nofollow\">Tw...   \n",
       "1042  <a href=\"http://twitter.com/download/iphone\" r...   \n",
       "2324  <a href=\"http://twitter.com/download/iphone\" r...   \n",
       "\n",
       "                                                   text  retweeted_status_id  \\\n",
       "274   @0_kelvin_0 &gt;10/10 is reserved for puppos s...                  NaN   \n",
       "1616  This is Alfie. That is his time machine. He's ...                  NaN   \n",
       "882   This is Rocco. He's doing his best. 13/10 some...                  NaN   \n",
       "1042  When you're given AUX cord privileges from the...                  NaN   \n",
       "2324  *internally screaming* 12/10 https://t.co/YMcr...                  NaN   \n",
       "\n",
       "      retweeted_status_user_id retweeted_status_timestamp  \\\n",
       "274                        NaN                        NaN   \n",
       "1616                       NaN                        NaN   \n",
       "882                        NaN                        NaN   \n",
       "1042                       NaN                        NaN   \n",
       "2324                       NaN                        NaN   \n",
       "\n",
       "                                          expanded_urls  rating_numerator  \\\n",
       "274                                                 NaN                10   \n",
       "1616  https://twitter.com/dog_rates/status/685198997...                11   \n",
       "882   https://twitter.com/dog_rates/status/760290219...                13   \n",
       "1042  https://twitter.com/dog_rates/status/743895849...                10   \n",
       "2324  https://twitter.com/dog_rates/status/666421158...                12   \n",
       "\n",
       "      rating_denominator   name doggo floofer pupper puppo  \n",
       "274                   10   None  None    None   None  None  \n",
       "1616                  10  Alfie  None    None   None  None  \n",
       "882                   10  Rocco  None    None   None  None  \n",
       "1042                  10   None  None    None   None  None  \n",
       "2324                  10   None  None    None   None  None  "
      ]
     },
     "execution_count": 1126,
     "metadata": {},
     "output_type": "execute_result"
    }
   ],
   "source": [
    "archive.sample(5)"
   ]
  },
  {
   "cell_type": "code",
   "execution_count": 1127,
   "metadata": {},
   "outputs": [
    {
     "name": "stdout",
     "output_type": "stream",
     "text": [
      "<class 'pandas.core.frame.DataFrame'>\n",
      "RangeIndex: 2356 entries, 0 to 2355\n",
      "Data columns (total 17 columns):\n",
      "tweet_id                      2356 non-null int64\n",
      "in_reply_to_status_id         78 non-null float64\n",
      "in_reply_to_user_id           78 non-null float64\n",
      "timestamp                     2356 non-null object\n",
      "source                        2356 non-null object\n",
      "text                          2356 non-null object\n",
      "retweeted_status_id           181 non-null float64\n",
      "retweeted_status_user_id      181 non-null float64\n",
      "retweeted_status_timestamp    181 non-null object\n",
      "expanded_urls                 2297 non-null object\n",
      "rating_numerator              2356 non-null int64\n",
      "rating_denominator            2356 non-null int64\n",
      "name                          2356 non-null object\n",
      "doggo                         2356 non-null object\n",
      "floofer                       2356 non-null object\n",
      "pupper                        2356 non-null object\n",
      "puppo                         2356 non-null object\n",
      "dtypes: float64(4), int64(3), object(10)\n",
      "memory usage: 313.0+ KB\n"
     ]
    }
   ],
   "source": [
    "archive.info() "
   ]
  },
  {
   "cell_type": "code",
   "execution_count": 1128,
   "metadata": {
    "scrolled": true
   },
   "outputs": [
    {
     "data": {
      "text/html": [
       "<div>\n",
       "<style scoped>\n",
       "    .dataframe tbody tr th:only-of-type {\n",
       "        vertical-align: middle;\n",
       "    }\n",
       "\n",
       "    .dataframe tbody tr th {\n",
       "        vertical-align: top;\n",
       "    }\n",
       "\n",
       "    .dataframe thead th {\n",
       "        text-align: right;\n",
       "    }\n",
       "</style>\n",
       "<table border=\"1\" class=\"dataframe\">\n",
       "  <thead>\n",
       "    <tr style=\"text-align: right;\">\n",
       "      <th></th>\n",
       "      <th>tweet_id</th>\n",
       "      <th>in_reply_to_status_id</th>\n",
       "      <th>in_reply_to_user_id</th>\n",
       "      <th>retweeted_status_id</th>\n",
       "      <th>retweeted_status_user_id</th>\n",
       "      <th>rating_numerator</th>\n",
       "      <th>rating_denominator</th>\n",
       "    </tr>\n",
       "  </thead>\n",
       "  <tbody>\n",
       "    <tr>\n",
       "      <th>count</th>\n",
       "      <td>2.356000e+03</td>\n",
       "      <td>7.800000e+01</td>\n",
       "      <td>7.800000e+01</td>\n",
       "      <td>1.810000e+02</td>\n",
       "      <td>1.810000e+02</td>\n",
       "      <td>2356.000000</td>\n",
       "      <td>2356.000000</td>\n",
       "    </tr>\n",
       "    <tr>\n",
       "      <th>mean</th>\n",
       "      <td>7.427716e+17</td>\n",
       "      <td>7.455079e+17</td>\n",
       "      <td>2.014171e+16</td>\n",
       "      <td>7.720400e+17</td>\n",
       "      <td>1.241698e+16</td>\n",
       "      <td>13.126486</td>\n",
       "      <td>10.455433</td>\n",
       "    </tr>\n",
       "    <tr>\n",
       "      <th>std</th>\n",
       "      <td>6.856705e+16</td>\n",
       "      <td>7.582492e+16</td>\n",
       "      <td>1.252797e+17</td>\n",
       "      <td>6.236928e+16</td>\n",
       "      <td>9.599254e+16</td>\n",
       "      <td>45.876648</td>\n",
       "      <td>6.745237</td>\n",
       "    </tr>\n",
       "    <tr>\n",
       "      <th>min</th>\n",
       "      <td>6.660209e+17</td>\n",
       "      <td>6.658147e+17</td>\n",
       "      <td>1.185634e+07</td>\n",
       "      <td>6.661041e+17</td>\n",
       "      <td>7.832140e+05</td>\n",
       "      <td>0.000000</td>\n",
       "      <td>0.000000</td>\n",
       "    </tr>\n",
       "    <tr>\n",
       "      <th>25%</th>\n",
       "      <td>6.783989e+17</td>\n",
       "      <td>6.757419e+17</td>\n",
       "      <td>3.086374e+08</td>\n",
       "      <td>7.186315e+17</td>\n",
       "      <td>4.196984e+09</td>\n",
       "      <td>10.000000</td>\n",
       "      <td>10.000000</td>\n",
       "    </tr>\n",
       "    <tr>\n",
       "      <th>50%</th>\n",
       "      <td>7.196279e+17</td>\n",
       "      <td>7.038708e+17</td>\n",
       "      <td>4.196984e+09</td>\n",
       "      <td>7.804657e+17</td>\n",
       "      <td>4.196984e+09</td>\n",
       "      <td>11.000000</td>\n",
       "      <td>10.000000</td>\n",
       "    </tr>\n",
       "    <tr>\n",
       "      <th>75%</th>\n",
       "      <td>7.993373e+17</td>\n",
       "      <td>8.257804e+17</td>\n",
       "      <td>4.196984e+09</td>\n",
       "      <td>8.203146e+17</td>\n",
       "      <td>4.196984e+09</td>\n",
       "      <td>12.000000</td>\n",
       "      <td>10.000000</td>\n",
       "    </tr>\n",
       "    <tr>\n",
       "      <th>max</th>\n",
       "      <td>8.924206e+17</td>\n",
       "      <td>8.862664e+17</td>\n",
       "      <td>8.405479e+17</td>\n",
       "      <td>8.874740e+17</td>\n",
       "      <td>7.874618e+17</td>\n",
       "      <td>1776.000000</td>\n",
       "      <td>170.000000</td>\n",
       "    </tr>\n",
       "  </tbody>\n",
       "</table>\n",
       "</div>"
      ],
      "text/plain": [
       "           tweet_id  in_reply_to_status_id  in_reply_to_user_id  \\\n",
       "count  2.356000e+03           7.800000e+01         7.800000e+01   \n",
       "mean   7.427716e+17           7.455079e+17         2.014171e+16   \n",
       "std    6.856705e+16           7.582492e+16         1.252797e+17   \n",
       "min    6.660209e+17           6.658147e+17         1.185634e+07   \n",
       "25%    6.783989e+17           6.757419e+17         3.086374e+08   \n",
       "50%    7.196279e+17           7.038708e+17         4.196984e+09   \n",
       "75%    7.993373e+17           8.257804e+17         4.196984e+09   \n",
       "max    8.924206e+17           8.862664e+17         8.405479e+17   \n",
       "\n",
       "       retweeted_status_id  retweeted_status_user_id  rating_numerator  \\\n",
       "count         1.810000e+02              1.810000e+02       2356.000000   \n",
       "mean          7.720400e+17              1.241698e+16         13.126486   \n",
       "std           6.236928e+16              9.599254e+16         45.876648   \n",
       "min           6.661041e+17              7.832140e+05          0.000000   \n",
       "25%           7.186315e+17              4.196984e+09         10.000000   \n",
       "50%           7.804657e+17              4.196984e+09         11.000000   \n",
       "75%           8.203146e+17              4.196984e+09         12.000000   \n",
       "max           8.874740e+17              7.874618e+17       1776.000000   \n",
       "\n",
       "       rating_denominator  \n",
       "count         2356.000000  \n",
       "mean            10.455433  \n",
       "std              6.745237  \n",
       "min              0.000000  \n",
       "25%             10.000000  \n",
       "50%             10.000000  \n",
       "75%             10.000000  \n",
       "max            170.000000  "
      ]
     },
     "execution_count": 1128,
     "metadata": {},
     "output_type": "execute_result"
    }
   ],
   "source": [
    "archive.describe()"
   ]
  },
  {
   "cell_type": "markdown",
   "metadata": {},
   "source": [
    "## **2.2 - Image prediction table**\n",
    "\n",
    "We would take a look into the table sample to understand its structure, then info function will show more about it. Describe funciton is an other usefull tool. "
   ]
  },
  {
   "cell_type": "code",
   "execution_count": 1129,
   "metadata": {},
   "outputs": [
    {
     "data": {
      "text/html": [
       "<div>\n",
       "<style scoped>\n",
       "    .dataframe tbody tr th:only-of-type {\n",
       "        vertical-align: middle;\n",
       "    }\n",
       "\n",
       "    .dataframe tbody tr th {\n",
       "        vertical-align: top;\n",
       "    }\n",
       "\n",
       "    .dataframe thead th {\n",
       "        text-align: right;\n",
       "    }\n",
       "</style>\n",
       "<table border=\"1\" class=\"dataframe\">\n",
       "  <thead>\n",
       "    <tr style=\"text-align: right;\">\n",
       "      <th></th>\n",
       "      <th>tweet_id</th>\n",
       "      <th>jpg_url</th>\n",
       "      <th>img_num</th>\n",
       "      <th>p1</th>\n",
       "      <th>p1_conf</th>\n",
       "      <th>p1_dog</th>\n",
       "      <th>p2</th>\n",
       "      <th>p2_conf</th>\n",
       "      <th>p2_dog</th>\n",
       "      <th>p3</th>\n",
       "      <th>p3_conf</th>\n",
       "      <th>p3_dog</th>\n",
       "    </tr>\n",
       "  </thead>\n",
       "  <tbody>\n",
       "    <tr>\n",
       "      <th>1436</th>\n",
       "      <td>773922284943896577</td>\n",
       "      <td>https://pbs.twimg.com/media/Cr2GNdlW8AAbojw.jpg</td>\n",
       "      <td>1</td>\n",
       "      <td>Pomeranian</td>\n",
       "      <td>0.554331</td>\n",
       "      <td>True</td>\n",
       "      <td>Samoyed</td>\n",
       "      <td>0.432158</td>\n",
       "      <td>True</td>\n",
       "      <td>chow</td>\n",
       "      <td>0.003199</td>\n",
       "      <td>True</td>\n",
       "    </tr>\n",
       "    <tr>\n",
       "      <th>1007</th>\n",
       "      <td>709198395643068416</td>\n",
       "      <td>https://pbs.twimg.com/media/CdeUKpcWoAAJAWJ.jpg</td>\n",
       "      <td>1</td>\n",
       "      <td>borzoi</td>\n",
       "      <td>0.490783</td>\n",
       "      <td>True</td>\n",
       "      <td>wire-haired_fox_terrier</td>\n",
       "      <td>0.083513</td>\n",
       "      <td>True</td>\n",
       "      <td>English_setter</td>\n",
       "      <td>0.083184</td>\n",
       "      <td>True</td>\n",
       "    </tr>\n",
       "    <tr>\n",
       "      <th>1548</th>\n",
       "      <td>792883833364439040</td>\n",
       "      <td>https://pbs.twimg.com/media/CwDjoH3WAAIniIs.jpg</td>\n",
       "      <td>3</td>\n",
       "      <td>jack-o'-lantern</td>\n",
       "      <td>0.999306</td>\n",
       "      <td>False</td>\n",
       "      <td>basketball</td>\n",
       "      <td>0.000113</td>\n",
       "      <td>False</td>\n",
       "      <td>standard_poodle</td>\n",
       "      <td>0.000083</td>\n",
       "      <td>True</td>\n",
       "    </tr>\n",
       "    <tr>\n",
       "      <th>1331</th>\n",
       "      <td>757611664640446465</td>\n",
       "      <td>https://pbs.twimg.com/media/CoOTyXJXEAAtjs9.jpg</td>\n",
       "      <td>1</td>\n",
       "      <td>bluetick</td>\n",
       "      <td>0.829259</td>\n",
       "      <td>True</td>\n",
       "      <td>beagle</td>\n",
       "      <td>0.145358</td>\n",
       "      <td>True</td>\n",
       "      <td>Walker_hound</td>\n",
       "      <td>0.019595</td>\n",
       "      <td>True</td>\n",
       "    </tr>\n",
       "    <tr>\n",
       "      <th>1352</th>\n",
       "      <td>759923798737051648</td>\n",
       "      <td>https://pbs.twimg.com/media/CovKqSYVIAAUbUW.jpg</td>\n",
       "      <td>1</td>\n",
       "      <td>Labrador_retriever</td>\n",
       "      <td>0.324579</td>\n",
       "      <td>True</td>\n",
       "      <td>seat_belt</td>\n",
       "      <td>0.109168</td>\n",
       "      <td>False</td>\n",
       "      <td>pug</td>\n",
       "      <td>0.102466</td>\n",
       "      <td>True</td>\n",
       "    </tr>\n",
       "  </tbody>\n",
       "</table>\n",
       "</div>"
      ],
      "text/plain": [
       "                tweet_id                                          jpg_url  \\\n",
       "1436  773922284943896577  https://pbs.twimg.com/media/Cr2GNdlW8AAbojw.jpg   \n",
       "1007  709198395643068416  https://pbs.twimg.com/media/CdeUKpcWoAAJAWJ.jpg   \n",
       "1548  792883833364439040  https://pbs.twimg.com/media/CwDjoH3WAAIniIs.jpg   \n",
       "1331  757611664640446465  https://pbs.twimg.com/media/CoOTyXJXEAAtjs9.jpg   \n",
       "1352  759923798737051648  https://pbs.twimg.com/media/CovKqSYVIAAUbUW.jpg   \n",
       "\n",
       "      img_num                  p1   p1_conf  p1_dog                       p2  \\\n",
       "1436        1          Pomeranian  0.554331    True                  Samoyed   \n",
       "1007        1              borzoi  0.490783    True  wire-haired_fox_terrier   \n",
       "1548        3     jack-o'-lantern  0.999306   False               basketball   \n",
       "1331        1            bluetick  0.829259    True                   beagle   \n",
       "1352        1  Labrador_retriever  0.324579    True                seat_belt   \n",
       "\n",
       "       p2_conf  p2_dog               p3   p3_conf  p3_dog  \n",
       "1436  0.432158    True             chow  0.003199    True  \n",
       "1007  0.083513    True   English_setter  0.083184    True  \n",
       "1548  0.000113   False  standard_poodle  0.000083    True  \n",
       "1331  0.145358    True     Walker_hound  0.019595    True  \n",
       "1352  0.109168   False              pug  0.102466    True  "
      ]
     },
     "execution_count": 1129,
     "metadata": {},
     "output_type": "execute_result"
    }
   ],
   "source": [
    "image_prediction.sample(5)"
   ]
  },
  {
   "cell_type": "code",
   "execution_count": 1130,
   "metadata": {},
   "outputs": [
    {
     "name": "stdout",
     "output_type": "stream",
     "text": [
      "<class 'pandas.core.frame.DataFrame'>\n",
      "RangeIndex: 2075 entries, 0 to 2074\n",
      "Data columns (total 12 columns):\n",
      "tweet_id    2075 non-null int64\n",
      "jpg_url     2075 non-null object\n",
      "img_num     2075 non-null int64\n",
      "p1          2075 non-null object\n",
      "p1_conf     2075 non-null float64\n",
      "p1_dog      2075 non-null bool\n",
      "p2          2075 non-null object\n",
      "p2_conf     2075 non-null float64\n",
      "p2_dog      2075 non-null bool\n",
      "p3          2075 non-null object\n",
      "p3_conf     2075 non-null float64\n",
      "p3_dog      2075 non-null bool\n",
      "dtypes: bool(3), float64(3), int64(2), object(4)\n",
      "memory usage: 152.1+ KB\n"
     ]
    }
   ],
   "source": [
    "image_prediction.info()"
   ]
  },
  {
   "cell_type": "code",
   "execution_count": 1131,
   "metadata": {
    "scrolled": true
   },
   "outputs": [
    {
     "data": {
      "text/html": [
       "<div>\n",
       "<style scoped>\n",
       "    .dataframe tbody tr th:only-of-type {\n",
       "        vertical-align: middle;\n",
       "    }\n",
       "\n",
       "    .dataframe tbody tr th {\n",
       "        vertical-align: top;\n",
       "    }\n",
       "\n",
       "    .dataframe thead th {\n",
       "        text-align: right;\n",
       "    }\n",
       "</style>\n",
       "<table border=\"1\" class=\"dataframe\">\n",
       "  <thead>\n",
       "    <tr style=\"text-align: right;\">\n",
       "      <th></th>\n",
       "      <th>tweet_id</th>\n",
       "      <th>img_num</th>\n",
       "      <th>p1_conf</th>\n",
       "      <th>p2_conf</th>\n",
       "      <th>p3_conf</th>\n",
       "    </tr>\n",
       "  </thead>\n",
       "  <tbody>\n",
       "    <tr>\n",
       "      <th>count</th>\n",
       "      <td>2.075000e+03</td>\n",
       "      <td>2075.000000</td>\n",
       "      <td>2075.000000</td>\n",
       "      <td>2.075000e+03</td>\n",
       "      <td>2.075000e+03</td>\n",
       "    </tr>\n",
       "    <tr>\n",
       "      <th>mean</th>\n",
       "      <td>7.384514e+17</td>\n",
       "      <td>1.203855</td>\n",
       "      <td>0.594548</td>\n",
       "      <td>1.345886e-01</td>\n",
       "      <td>6.032417e-02</td>\n",
       "    </tr>\n",
       "    <tr>\n",
       "      <th>std</th>\n",
       "      <td>6.785203e+16</td>\n",
       "      <td>0.561875</td>\n",
       "      <td>0.271174</td>\n",
       "      <td>1.006657e-01</td>\n",
       "      <td>5.090593e-02</td>\n",
       "    </tr>\n",
       "    <tr>\n",
       "      <th>min</th>\n",
       "      <td>6.660209e+17</td>\n",
       "      <td>1.000000</td>\n",
       "      <td>0.044333</td>\n",
       "      <td>1.011300e-08</td>\n",
       "      <td>1.740170e-10</td>\n",
       "    </tr>\n",
       "    <tr>\n",
       "      <th>25%</th>\n",
       "      <td>6.764835e+17</td>\n",
       "      <td>1.000000</td>\n",
       "      <td>0.364412</td>\n",
       "      <td>5.388625e-02</td>\n",
       "      <td>1.622240e-02</td>\n",
       "    </tr>\n",
       "    <tr>\n",
       "      <th>50%</th>\n",
       "      <td>7.119988e+17</td>\n",
       "      <td>1.000000</td>\n",
       "      <td>0.588230</td>\n",
       "      <td>1.181810e-01</td>\n",
       "      <td>4.944380e-02</td>\n",
       "    </tr>\n",
       "    <tr>\n",
       "      <th>75%</th>\n",
       "      <td>7.932034e+17</td>\n",
       "      <td>1.000000</td>\n",
       "      <td>0.843855</td>\n",
       "      <td>1.955655e-01</td>\n",
       "      <td>9.180755e-02</td>\n",
       "    </tr>\n",
       "    <tr>\n",
       "      <th>max</th>\n",
       "      <td>8.924206e+17</td>\n",
       "      <td>4.000000</td>\n",
       "      <td>1.000000</td>\n",
       "      <td>4.880140e-01</td>\n",
       "      <td>2.734190e-01</td>\n",
       "    </tr>\n",
       "  </tbody>\n",
       "</table>\n",
       "</div>"
      ],
      "text/plain": [
       "           tweet_id      img_num      p1_conf       p2_conf       p3_conf\n",
       "count  2.075000e+03  2075.000000  2075.000000  2.075000e+03  2.075000e+03\n",
       "mean   7.384514e+17     1.203855     0.594548  1.345886e-01  6.032417e-02\n",
       "std    6.785203e+16     0.561875     0.271174  1.006657e-01  5.090593e-02\n",
       "min    6.660209e+17     1.000000     0.044333  1.011300e-08  1.740170e-10\n",
       "25%    6.764835e+17     1.000000     0.364412  5.388625e-02  1.622240e-02\n",
       "50%    7.119988e+17     1.000000     0.588230  1.181810e-01  4.944380e-02\n",
       "75%    7.932034e+17     1.000000     0.843855  1.955655e-01  9.180755e-02\n",
       "max    8.924206e+17     4.000000     1.000000  4.880140e-01  2.734190e-01"
      ]
     },
     "execution_count": 1131,
     "metadata": {},
     "output_type": "execute_result"
    }
   ],
   "source": [
    "image_prediction.describe()"
   ]
  },
  {
   "cell_type": "markdown",
   "metadata": {},
   "source": [
    "## **2.3 - Json Data File**\n",
    "\n",
    "We would take a look into the table sample to understand its structure, then info function will show more about it. Describe funciton is an other usefull tool. "
   ]
  },
  {
   "cell_type": "code",
   "execution_count": 1132,
   "metadata": {},
   "outputs": [
    {
     "data": {
      "text/html": [
       "<div>\n",
       "<style scoped>\n",
       "    .dataframe tbody tr th:only-of-type {\n",
       "        vertical-align: middle;\n",
       "    }\n",
       "\n",
       "    .dataframe tbody tr th {\n",
       "        vertical-align: top;\n",
       "    }\n",
       "\n",
       "    .dataframe thead th {\n",
       "        text-align: right;\n",
       "    }\n",
       "</style>\n",
       "<table border=\"1\" class=\"dataframe\">\n",
       "  <thead>\n",
       "    <tr style=\"text-align: right;\">\n",
       "      <th></th>\n",
       "      <th>favorite_count</th>\n",
       "      <th>full_text</th>\n",
       "      <th>retweet_count</th>\n",
       "      <th>tweet_id</th>\n",
       "    </tr>\n",
       "  </thead>\n",
       "  <tbody>\n",
       "    <tr>\n",
       "      <th>2119</th>\n",
       "      <td>600</td>\n",
       "      <td>This is Peanut. He was the World Table Tennis ...</td>\n",
       "      <td>249</td>\n",
       "      <td>670408998013820928</td>\n",
       "    </tr>\n",
       "    <tr>\n",
       "      <th>534</th>\n",
       "      <td>0</td>\n",
       "      <td>RT @dog_rates: This is Cali. She arrived preas...</td>\n",
       "      <td>8521</td>\n",
       "      <td>807059379405148160</td>\n",
       "    </tr>\n",
       "    <tr>\n",
       "      <th>2053</th>\n",
       "      <td>1193</td>\n",
       "      <td>This is Tanner. He accidentally dropped all hi...</td>\n",
       "      <td>325</td>\n",
       "      <td>671362598324076544</td>\n",
       "    </tr>\n",
       "    <tr>\n",
       "      <th>812</th>\n",
       "      <td>6898</td>\n",
       "      <td>This is Charlie. He works for @TODAYshow. Supe...</td>\n",
       "      <td>1663</td>\n",
       "      <td>771102124360998913</td>\n",
       "    </tr>\n",
       "    <tr>\n",
       "      <th>792</th>\n",
       "      <td>24553</td>\n",
       "      <td>This is Chelsea. She forgot how to dog. 11/10 ...</td>\n",
       "      <td>7126</td>\n",
       "      <td>773547596996571136</td>\n",
       "    </tr>\n",
       "  </tbody>\n",
       "</table>\n",
       "</div>"
      ],
      "text/plain": [
       "      favorite_count                                          full_text  \\\n",
       "2119             600  This is Peanut. He was the World Table Tennis ...   \n",
       "534                0  RT @dog_rates: This is Cali. She arrived preas...   \n",
       "2053            1193  This is Tanner. He accidentally dropped all hi...   \n",
       "812             6898  This is Charlie. He works for @TODAYshow. Supe...   \n",
       "792            24553  This is Chelsea. She forgot how to dog. 11/10 ...   \n",
       "\n",
       "      retweet_count            tweet_id  \n",
       "2119            249  670408998013820928  \n",
       "534            8521  807059379405148160  \n",
       "2053            325  671362598324076544  \n",
       "812            1663  771102124360998913  \n",
       "792            7126  773547596996571136  "
      ]
     },
     "execution_count": 1132,
     "metadata": {},
     "output_type": "execute_result"
    }
   ],
   "source": [
    "tweet_df.sample(5)"
   ]
  },
  {
   "cell_type": "code",
   "execution_count": 1133,
   "metadata": {},
   "outputs": [
    {
     "name": "stdout",
     "output_type": "stream",
     "text": [
      "<class 'pandas.core.frame.DataFrame'>\n",
      "RangeIndex: 2354 entries, 0 to 2353\n",
      "Data columns (total 4 columns):\n",
      "favorite_count    2354 non-null int64\n",
      "full_text         2354 non-null object\n",
      "retweet_count     2354 non-null int64\n",
      "tweet_id          2354 non-null int64\n",
      "dtypes: int64(3), object(1)\n",
      "memory usage: 73.6+ KB\n"
     ]
    }
   ],
   "source": [
    "tweet_df.info()"
   ]
  },
  {
   "cell_type": "code",
   "execution_count": 1134,
   "metadata": {},
   "outputs": [
    {
     "data": {
      "text/html": [
       "<div>\n",
       "<style scoped>\n",
       "    .dataframe tbody tr th:only-of-type {\n",
       "        vertical-align: middle;\n",
       "    }\n",
       "\n",
       "    .dataframe tbody tr th {\n",
       "        vertical-align: top;\n",
       "    }\n",
       "\n",
       "    .dataframe thead th {\n",
       "        text-align: right;\n",
       "    }\n",
       "</style>\n",
       "<table border=\"1\" class=\"dataframe\">\n",
       "  <thead>\n",
       "    <tr style=\"text-align: right;\">\n",
       "      <th></th>\n",
       "      <th>favorite_count</th>\n",
       "      <th>retweet_count</th>\n",
       "      <th>tweet_id</th>\n",
       "    </tr>\n",
       "  </thead>\n",
       "  <tbody>\n",
       "    <tr>\n",
       "      <th>count</th>\n",
       "      <td>2354.000000</td>\n",
       "      <td>2354.000000</td>\n",
       "      <td>2.354000e+03</td>\n",
       "    </tr>\n",
       "    <tr>\n",
       "      <th>mean</th>\n",
       "      <td>8080.968564</td>\n",
       "      <td>3164.797366</td>\n",
       "      <td>7.426978e+17</td>\n",
       "    </tr>\n",
       "    <tr>\n",
       "      <th>std</th>\n",
       "      <td>11814.771334</td>\n",
       "      <td>5284.770364</td>\n",
       "      <td>6.852812e+16</td>\n",
       "    </tr>\n",
       "    <tr>\n",
       "      <th>min</th>\n",
       "      <td>0.000000</td>\n",
       "      <td>0.000000</td>\n",
       "      <td>6.660209e+17</td>\n",
       "    </tr>\n",
       "    <tr>\n",
       "      <th>25%</th>\n",
       "      <td>1415.000000</td>\n",
       "      <td>624.500000</td>\n",
       "      <td>6.783975e+17</td>\n",
       "    </tr>\n",
       "    <tr>\n",
       "      <th>50%</th>\n",
       "      <td>3603.500000</td>\n",
       "      <td>1473.500000</td>\n",
       "      <td>7.194596e+17</td>\n",
       "    </tr>\n",
       "    <tr>\n",
       "      <th>75%</th>\n",
       "      <td>10122.250000</td>\n",
       "      <td>3652.000000</td>\n",
       "      <td>7.993058e+17</td>\n",
       "    </tr>\n",
       "    <tr>\n",
       "      <th>max</th>\n",
       "      <td>132810.000000</td>\n",
       "      <td>79515.000000</td>\n",
       "      <td>8.924206e+17</td>\n",
       "    </tr>\n",
       "  </tbody>\n",
       "</table>\n",
       "</div>"
      ],
      "text/plain": [
       "       favorite_count  retweet_count      tweet_id\n",
       "count     2354.000000    2354.000000  2.354000e+03\n",
       "mean      8080.968564    3164.797366  7.426978e+17\n",
       "std      11814.771334    5284.770364  6.852812e+16\n",
       "min          0.000000       0.000000  6.660209e+17\n",
       "25%       1415.000000     624.500000  6.783975e+17\n",
       "50%       3603.500000    1473.500000  7.194596e+17\n",
       "75%      10122.250000    3652.000000  7.993058e+17\n",
       "max     132810.000000   79515.000000  8.924206e+17"
      ]
     },
     "execution_count": 1134,
     "metadata": {},
     "output_type": "execute_result"
    }
   ],
   "source": [
    "tweet_df.describe()"
   ]
  },
  {
   "cell_type": "markdown",
   "metadata": {},
   "source": [
    "<b>Section Summery:</b> looking to above tables and information, all tables tend to have alot of issues that need to be invistigated and cleaned. Next sections will go through the preperation of the data by invistigating and cleaning when neccessary. "
   ]
  },
  {
   "cell_type": "markdown",
   "metadata": {},
   "source": [
    "# 3 - Cleaning Section\n",
    "In this section, all data quality and tideness issues will be cleaned, this includes:\n",
    "- Dataype fixes\n",
    "- removing duplicated values\n",
    "- removing null values\n",
    "- merging columns if required\n",
    "- merging cleaned tables into a master dataframe. "
   ]
  },
  {
   "cell_type": "markdown",
   "metadata": {},
   "source": [
    "## **3.1 - Archive**\n",
    "dtypes test"
   ]
  },
  {
   "cell_type": "code",
   "execution_count": 1135,
   "metadata": {},
   "outputs": [
    {
     "data": {
      "text/plain": [
       "tweet_id                        int64\n",
       "in_reply_to_status_id         float64\n",
       "in_reply_to_user_id           float64\n",
       "timestamp                      object\n",
       "source                         object\n",
       "text                           object\n",
       "retweeted_status_id           float64\n",
       "retweeted_status_user_id      float64\n",
       "retweeted_status_timestamp     object\n",
       "expanded_urls                  object\n",
       "rating_numerator                int64\n",
       "rating_denominator              int64\n",
       "name                           object\n",
       "doggo                          object\n",
       "floofer                        object\n",
       "pupper                         object\n",
       "puppo                          object\n",
       "dtype: object"
      ]
     },
     "execution_count": 1135,
     "metadata": {},
     "output_type": "execute_result"
    }
   ],
   "source": [
    "archive.dtypes"
   ]
  },
  {
   "cell_type": "markdown",
   "metadata": {},
   "source": [
    "**First** some columns needs to be converted into the proper data type. "
   ]
  },
  {
   "cell_type": "code",
   "execution_count": 1136,
   "metadata": {},
   "outputs": [],
   "source": [
    "archive['tweet_id'] = archive['tweet_id'].astype(str)\n",
    "archive['in_reply_to_status_id'] = archive['in_reply_to_status_id'].astype(str)\n",
    "archive['in_reply_to_user_id'] = archive['in_reply_to_user_id'].astype(str)\n",
    "archive['retweeted_status_id'] = archive['retweeted_status_id'].astype(str)\n",
    "archive['retweeted_status_user_id'] = archive['retweeted_status_user_id'].astype(str)\n",
    "archive['timestamp'] = pd.to_datetime(archive['timestamp'])\n",
    "archive['retweeted_status_timestamp'] = pd.to_datetime(archive['retweeted_status_timestamp'])"
   ]
  },
  {
   "cell_type": "code",
   "execution_count": 1137,
   "metadata": {},
   "outputs": [
    {
     "data": {
      "text/plain": [
       "tweet_id                              object\n",
       "in_reply_to_status_id                 object\n",
       "in_reply_to_user_id                   object\n",
       "timestamp                     datetime64[ns]\n",
       "source                                object\n",
       "text                                  object\n",
       "retweeted_status_id                   object\n",
       "retweeted_status_user_id              object\n",
       "retweeted_status_timestamp    datetime64[ns]\n",
       "expanded_urls                         object\n",
       "rating_numerator                       int64\n",
       "rating_denominator                     int64\n",
       "name                                  object\n",
       "doggo                                 object\n",
       "floofer                               object\n",
       "pupper                                object\n",
       "puppo                                 object\n",
       "dtype: object"
      ]
     },
     "execution_count": 1137,
     "metadata": {},
     "output_type": "execute_result"
    }
   ],
   "source": [
    "archive.dtypes"
   ]
  },
  {
   "cell_type": "markdown",
   "metadata": {},
   "source": [
    "## **3.2 - Archive drop Nulls**\n",
    "null values test, alot of columns tend to have nulls, but retweeted_status_timestamp tends to have the most, so it would be better to drop it. "
   ]
  },
  {
   "cell_type": "code",
   "execution_count": 1138,
   "metadata": {},
   "outputs": [
    {
     "data": {
      "text/plain": [
       "2175"
      ]
     },
     "execution_count": 1138,
     "metadata": {},
     "output_type": "execute_result"
    }
   ],
   "source": [
    "archive.retweeted_status_timestamp.isnull().sum()        "
   ]
  },
  {
   "cell_type": "code",
   "execution_count": 1139,
   "metadata": {},
   "outputs": [],
   "source": [
    "archive.drop('retweeted_status_timestamp' , axis=1 , inplace=True)"
   ]
  },
  {
   "cell_type": "code",
   "execution_count": 1140,
   "metadata": {},
   "outputs": [
    {
     "name": "stdout",
     "output_type": "stream",
     "text": [
      "<class 'pandas.core.frame.DataFrame'>\n",
      "RangeIndex: 2356 entries, 0 to 2355\n",
      "Data columns (total 16 columns):\n",
      "tweet_id                    2356 non-null object\n",
      "in_reply_to_status_id       2356 non-null object\n",
      "in_reply_to_user_id         2356 non-null object\n",
      "timestamp                   2356 non-null datetime64[ns]\n",
      "source                      2356 non-null object\n",
      "text                        2356 non-null object\n",
      "retweeted_status_id         2356 non-null object\n",
      "retweeted_status_user_id    2356 non-null object\n",
      "expanded_urls               2297 non-null object\n",
      "rating_numerator            2356 non-null int64\n",
      "rating_denominator          2356 non-null int64\n",
      "name                        2356 non-null object\n",
      "doggo                       2356 non-null object\n",
      "floofer                     2356 non-null object\n",
      "pupper                      2356 non-null object\n",
      "puppo                       2356 non-null object\n",
      "dtypes: datetime64[ns](1), int64(2), object(13)\n",
      "memory usage: 294.6+ KB\n"
     ]
    }
   ],
   "source": [
    "archive.info()"
   ]
  },
  {
   "cell_type": "markdown",
   "metadata": {},
   "source": [
    "## 3.3 -  Source Column Fix\n",
    "\n",
    "Source column values contains a link to the source type of information, it is recommended that we remove the lind form value. "
   ]
  },
  {
   "cell_type": "code",
   "execution_count": 1141,
   "metadata": {},
   "outputs": [
    {
     "data": {
      "text/plain": [
       "array(['<a href=\"http://twitter.com/download/iphone\" rel=\"nofollow\">Twitter for iPhone</a>',\n",
       "       '<a href=\"http://twitter.com\" rel=\"nofollow\">Twitter Web Client</a>',\n",
       "       '<a href=\"http://vine.co\" rel=\"nofollow\">Vine - Make a Scene</a>',\n",
       "       '<a href=\"https://about.twitter.com/products/tweetdeck\" rel=\"nofollow\">TweetDeck</a>'],\n",
       "      dtype=object)"
      ]
     },
     "execution_count": 1141,
     "metadata": {},
     "output_type": "execute_result"
    }
   ],
   "source": [
    "source = archive['source']\n",
    "source.unique()"
   ]
  },
  {
   "cell_type": "code",
   "execution_count": 1142,
   "metadata": {},
   "outputs": [
    {
     "data": {
      "text/plain": [
       "array(['Twitter for iPhone', 'Twitter Web Client', 'Vine - Make a Scene',\n",
       "       'TweetDeck'], dtype=object)"
      ]
     },
     "execution_count": 1142,
     "metadata": {},
     "output_type": "execute_result"
    }
   ],
   "source": [
    "archive['source'].replace(source.unique()[0],'Twitter for iPhone',inplace=True)\n",
    "archive['source'].replace(source.unique()[1],'Twitter Web Client',inplace=True)\n",
    "archive['source'].replace(source.unique()[2],'Vine - Make a Scene',inplace=True)\n",
    "archive['source'].replace(source.unique()[3],'TweetDeck',inplace=True)\n",
    "archive.source.unique()"
   ]
  },
  {
   "cell_type": "markdown",
   "metadata": {},
   "source": [
    "## 3.4 - Name Column Fix\n",
    "\n",
    "most of the values on name column has unexpected values, they would be better replaced with dummy values or in this case, I would put them Unnamed. "
   ]
  },
  {
   "cell_type": "code",
   "execution_count": 1143,
   "metadata": {},
   "outputs": [
    {
     "data": {
      "text/plain": [
       "Unnammed        800\n",
       "Charlie          12\n",
       "Oliver           11\n",
       "Cooper           11\n",
       "Lucy             11\n",
       "Penny            10\n",
       "Lola             10\n",
       "Tucker           10\n",
       "Bo                9\n",
       "Winston           9\n",
       "the               8\n",
       "Sadie             8\n",
       "Toby              7\n",
       "Buddy             7\n",
       "an                7\n",
       "Daisy             7\n",
       "Bailey            7\n",
       "Leo               6\n",
       "Dave              6\n",
       "Stanley           6\n",
       "Jack              6\n",
       "Oscar             6\n",
       "Scout             6\n",
       "Jax               6\n",
       "Milo              6\n",
       "Koda              6\n",
       "Bella             6\n",
       "Rusty             6\n",
       "Louis             5\n",
       "Phil              5\n",
       "               ... \n",
       "Jockson           1\n",
       "Pluto             1\n",
       "BeBe              1\n",
       "Dwight            1\n",
       "Jarod             1\n",
       "Bradlay           1\n",
       "Saydee            1\n",
       "Howie             1\n",
       "Jerome            1\n",
       "Kane              1\n",
       "Willow            1\n",
       "Jeffrie           1\n",
       "Severus           1\n",
       "Shakespeare       1\n",
       "Grady             1\n",
       "Rumble            1\n",
       "Edgar             1\n",
       "Charleson         1\n",
       "unacceptable      1\n",
       "Tebow             1\n",
       "Noosh             1\n",
       "Rueben            1\n",
       "Linus             1\n",
       "Dudley            1\n",
       "Lorelei           1\n",
       "Fiji              1\n",
       "Chevy             1\n",
       "Tango             1\n",
       "Millie            1\n",
       "Newt              1\n",
       "Name: name, Length: 956, dtype: int64"
      ]
     },
     "execution_count": 1143,
     "metadata": {},
     "output_type": "execute_result"
    }
   ],
   "source": [
    "archive['name'].replace(['None','a',' None'],'Unnammed',inplace=True)\n",
    "archive.name.value_counts()"
   ]
  },
  {
   "cell_type": "markdown",
   "metadata": {},
   "source": [
    "## **3.5 - Retweets**\n",
    "\n",
    "Retweets are not valid tweets, they are better removed for validity. "
   ]
  },
  {
   "cell_type": "code",
   "execution_count": 1144,
   "metadata": {},
   "outputs": [
    {
     "data": {
      "text/html": [
       "<div>\n",
       "<style scoped>\n",
       "    .dataframe tbody tr th:only-of-type {\n",
       "        vertical-align: middle;\n",
       "    }\n",
       "\n",
       "    .dataframe tbody tr th {\n",
       "        vertical-align: top;\n",
       "    }\n",
       "\n",
       "    .dataframe thead th {\n",
       "        text-align: right;\n",
       "    }\n",
       "</style>\n",
       "<table border=\"1\" class=\"dataframe\">\n",
       "  <thead>\n",
       "    <tr style=\"text-align: right;\">\n",
       "      <th></th>\n",
       "      <th>tweet_id</th>\n",
       "      <th>in_reply_to_status_id</th>\n",
       "      <th>in_reply_to_user_id</th>\n",
       "      <th>timestamp</th>\n",
       "      <th>source</th>\n",
       "      <th>text</th>\n",
       "      <th>retweeted_status_id</th>\n",
       "      <th>retweeted_status_user_id</th>\n",
       "      <th>expanded_urls</th>\n",
       "      <th>rating_numerator</th>\n",
       "      <th>rating_denominator</th>\n",
       "      <th>name</th>\n",
       "      <th>doggo</th>\n",
       "      <th>floofer</th>\n",
       "      <th>pupper</th>\n",
       "      <th>puppo</th>\n",
       "    </tr>\n",
       "  </thead>\n",
       "  <tbody>\n",
       "    <tr>\n",
       "      <th>615</th>\n",
       "      <td>796563435802726400</td>\n",
       "      <td>nan</td>\n",
       "      <td>nan</td>\n",
       "      <td>2016-11-10 04:01:37</td>\n",
       "      <td>Twitter for iPhone</td>\n",
       "      <td>RT @dog_rates: I want to finally rate this ico...</td>\n",
       "      <td>7.809316141509837e+17</td>\n",
       "      <td>4196983835.0</td>\n",
       "      <td>https://twitter.com/dog_rates/status/780931614...</td>\n",
       "      <td>13</td>\n",
       "      <td>10</td>\n",
       "      <td>Unnammed</td>\n",
       "      <td>None</td>\n",
       "      <td>None</td>\n",
       "      <td>None</td>\n",
       "      <td>puppo</td>\n",
       "    </tr>\n",
       "    <tr>\n",
       "      <th>811</th>\n",
       "      <td>771171053431250945</td>\n",
       "      <td>nan</td>\n",
       "      <td>nan</td>\n",
       "      <td>2016-09-01 02:21:21</td>\n",
       "      <td>Twitter for iPhone</td>\n",
       "      <td>RT @dog_rates: This is Frankie. He's wearing b...</td>\n",
       "      <td>6.733201328113664e+17</td>\n",
       "      <td>4196983835.0</td>\n",
       "      <td>https://twitter.com/dog_rates/status/673320132...</td>\n",
       "      <td>11</td>\n",
       "      <td>10</td>\n",
       "      <td>Frankie</td>\n",
       "      <td>None</td>\n",
       "      <td>None</td>\n",
       "      <td>None</td>\n",
       "      <td>None</td>\n",
       "    </tr>\n",
       "    <tr>\n",
       "      <th>506</th>\n",
       "      <td>812747805718642688</td>\n",
       "      <td>nan</td>\n",
       "      <td>nan</td>\n",
       "      <td>2016-12-24 19:52:31</td>\n",
       "      <td>Twitter for iPhone</td>\n",
       "      <td>RT @dog_rates: Meet Sammy. At first I was like...</td>\n",
       "      <td>6.800554559518843e+17</td>\n",
       "      <td>4196983835.0</td>\n",
       "      <td>https://twitter.com/dog_rates/status/680055455...</td>\n",
       "      <td>10</td>\n",
       "      <td>10</td>\n",
       "      <td>Sammy</td>\n",
       "      <td>None</td>\n",
       "      <td>None</td>\n",
       "      <td>None</td>\n",
       "      <td>None</td>\n",
       "    </tr>\n",
       "  </tbody>\n",
       "</table>\n",
       "</div>"
      ],
      "text/plain": [
       "               tweet_id in_reply_to_status_id in_reply_to_user_id  \\\n",
       "615  796563435802726400                   nan                 nan   \n",
       "811  771171053431250945                   nan                 nan   \n",
       "506  812747805718642688                   nan                 nan   \n",
       "\n",
       "              timestamp              source  \\\n",
       "615 2016-11-10 04:01:37  Twitter for iPhone   \n",
       "811 2016-09-01 02:21:21  Twitter for iPhone   \n",
       "506 2016-12-24 19:52:31  Twitter for iPhone   \n",
       "\n",
       "                                                  text    retweeted_status_id  \\\n",
       "615  RT @dog_rates: I want to finally rate this ico...  7.809316141509837e+17   \n",
       "811  RT @dog_rates: This is Frankie. He's wearing b...  6.733201328113664e+17   \n",
       "506  RT @dog_rates: Meet Sammy. At first I was like...  6.800554559518843e+17   \n",
       "\n",
       "    retweeted_status_user_id  \\\n",
       "615             4196983835.0   \n",
       "811             4196983835.0   \n",
       "506             4196983835.0   \n",
       "\n",
       "                                         expanded_urls  rating_numerator  \\\n",
       "615  https://twitter.com/dog_rates/status/780931614...                13   \n",
       "811  https://twitter.com/dog_rates/status/673320132...                11   \n",
       "506  https://twitter.com/dog_rates/status/680055455...                10   \n",
       "\n",
       "     rating_denominator      name doggo floofer pupper  puppo  \n",
       "615                  10  Unnammed  None    None   None  puppo  \n",
       "811                  10   Frankie  None    None   None   None  \n",
       "506                  10     Sammy  None    None   None   None  "
      ]
     },
     "execution_count": 1144,
     "metadata": {},
     "output_type": "execute_result"
    }
   ],
   "source": [
    "retweets = archive[archive.text.str.contains('RT @')]\n",
    "retweets.sample(3) "
   ]
  },
  {
   "cell_type": "markdown",
   "metadata": {},
   "source": [
    "The following columns would have no use after deleting the retweets, it is recommended to remove them. \n",
    "\n",
    "'in_reply_to_user_id'\n",
    "'in_reply_to_status_id'\n",
    "'retweeted_status_id'\n",
    "'retweeted_status_user_id'"
   ]
  },
  {
   "cell_type": "code",
   "execution_count": 1145,
   "metadata": {},
   "outputs": [],
   "source": [
    "archive.drop(retweets.index, inplace=True)\n",
    "archive.drop(['in_reply_to_user_id','in_reply_to_status_id',\n",
    "              'retweeted_status_id','retweeted_status_user_id'], axis=1, inplace=True)"
   ]
  },
  {
   "cell_type": "code",
   "execution_count": 1146,
   "metadata": {},
   "outputs": [
    {
     "name": "stdout",
     "output_type": "stream",
     "text": [
      "<class 'pandas.core.frame.DataFrame'>\n",
      "Int64Index: 2175 entries, 0 to 2355\n",
      "Data columns (total 12 columns):\n",
      "tweet_id              2175 non-null object\n",
      "timestamp             2175 non-null datetime64[ns]\n",
      "source                2175 non-null object\n",
      "text                  2175 non-null object\n",
      "expanded_urls         2117 non-null object\n",
      "rating_numerator      2175 non-null int64\n",
      "rating_denominator    2175 non-null int64\n",
      "name                  2175 non-null object\n",
      "doggo                 2175 non-null object\n",
      "floofer               2175 non-null object\n",
      "pupper                2175 non-null object\n",
      "puppo                 2175 non-null object\n",
      "dtypes: datetime64[ns](1), int64(2), object(9)\n",
      "memory usage: 220.9+ KB\n"
     ]
    }
   ],
   "source": [
    "archive.info()"
   ]
  },
  {
   "cell_type": "markdown",
   "metadata": {},
   "source": [
    "## 3.6 - Dog Stage\n",
    "\n",
    "Congesting the table with columns is not a good practice, instead a consildated column should hold the category type meant to be from theses columns. \n",
    "\n",
    "A new column called Stage will be created, all values from other stages columns will be assigned to the new one. \n",
    "\n",
    "an other issue is that, these columns have alot of 'None' values, they should be removed. "
   ]
  },
  {
   "cell_type": "code",
   "execution_count": 1147,
   "metadata": {},
   "outputs": [
    {
     "data": {
      "text/html": [
       "<div>\n",
       "<style scoped>\n",
       "    .dataframe tbody tr th:only-of-type {\n",
       "        vertical-align: middle;\n",
       "    }\n",
       "\n",
       "    .dataframe tbody tr th {\n",
       "        vertical-align: top;\n",
       "    }\n",
       "\n",
       "    .dataframe thead th {\n",
       "        text-align: right;\n",
       "    }\n",
       "</style>\n",
       "<table border=\"1\" class=\"dataframe\">\n",
       "  <thead>\n",
       "    <tr style=\"text-align: right;\">\n",
       "      <th></th>\n",
       "      <th>doggo</th>\n",
       "      <th>floofer</th>\n",
       "      <th>pupper</th>\n",
       "      <th>puppo</th>\n",
       "    </tr>\n",
       "  </thead>\n",
       "  <tbody>\n",
       "    <tr>\n",
       "      <th>count</th>\n",
       "      <td>2175</td>\n",
       "      <td>2175</td>\n",
       "      <td>2175</td>\n",
       "      <td>2175</td>\n",
       "    </tr>\n",
       "    <tr>\n",
       "      <th>unique</th>\n",
       "      <td>2</td>\n",
       "      <td>2</td>\n",
       "      <td>2</td>\n",
       "      <td>2</td>\n",
       "    </tr>\n",
       "    <tr>\n",
       "      <th>top</th>\n",
       "      <td>None</td>\n",
       "      <td>None</td>\n",
       "      <td>None</td>\n",
       "      <td>None</td>\n",
       "    </tr>\n",
       "    <tr>\n",
       "      <th>freq</th>\n",
       "      <td>2088</td>\n",
       "      <td>2165</td>\n",
       "      <td>1941</td>\n",
       "      <td>2150</td>\n",
       "    </tr>\n",
       "  </tbody>\n",
       "</table>\n",
       "</div>"
      ],
      "text/plain": [
       "       doggo floofer pupper puppo\n",
       "count   2175    2175   2175  2175\n",
       "unique     2       2      2     2\n",
       "top     None    None   None  None\n",
       "freq    2088    2165   1941  2150"
      ]
     },
     "execution_count": 1147,
     "metadata": {},
     "output_type": "execute_result"
    }
   ],
   "source": [
    "archive[['doggo','floofer','pupper','puppo']].describe()"
   ]
  },
  {
   "cell_type": "code",
   "execution_count": 1148,
   "metadata": {},
   "outputs": [],
   "source": [
    "archive['Stage'] = ''\n",
    "archive['doggo'].replace('None','',inplace=True)\n",
    "archive['pupper'].replace('None','',inplace=True)\n",
    "archive['floofer'].replace('None','',inplace=True)\n",
    "archive['puppo'].replace('None','',inplace=True)"
   ]
  },
  {
   "cell_type": "code",
   "execution_count": 1149,
   "metadata": {},
   "outputs": [
    {
     "data": {
      "text/html": [
       "<div>\n",
       "<style scoped>\n",
       "    .dataframe tbody tr th:only-of-type {\n",
       "        vertical-align: middle;\n",
       "    }\n",
       "\n",
       "    .dataframe tbody tr th {\n",
       "        vertical-align: top;\n",
       "    }\n",
       "\n",
       "    .dataframe thead th {\n",
       "        text-align: right;\n",
       "    }\n",
       "</style>\n",
       "<table border=\"1\" class=\"dataframe\">\n",
       "  <thead>\n",
       "    <tr style=\"text-align: right;\">\n",
       "      <th></th>\n",
       "      <th>doggo</th>\n",
       "      <th>floofer</th>\n",
       "      <th>pupper</th>\n",
       "      <th>puppo</th>\n",
       "    </tr>\n",
       "  </thead>\n",
       "  <tbody>\n",
       "    <tr>\n",
       "      <th>count</th>\n",
       "      <td>2175</td>\n",
       "      <td>2175</td>\n",
       "      <td>2175</td>\n",
       "      <td>2175</td>\n",
       "    </tr>\n",
       "    <tr>\n",
       "      <th>unique</th>\n",
       "      <td>2</td>\n",
       "      <td>2</td>\n",
       "      <td>2</td>\n",
       "      <td>2</td>\n",
       "    </tr>\n",
       "    <tr>\n",
       "      <th>top</th>\n",
       "      <td></td>\n",
       "      <td></td>\n",
       "      <td></td>\n",
       "      <td></td>\n",
       "    </tr>\n",
       "    <tr>\n",
       "      <th>freq</th>\n",
       "      <td>2088</td>\n",
       "      <td>2165</td>\n",
       "      <td>1941</td>\n",
       "      <td>2150</td>\n",
       "    </tr>\n",
       "  </tbody>\n",
       "</table>\n",
       "</div>"
      ],
      "text/plain": [
       "       doggo floofer pupper puppo\n",
       "count   2175    2175   2175  2175\n",
       "unique     2       2      2     2\n",
       "top                              \n",
       "freq    2088    2165   1941  2150"
      ]
     },
     "execution_count": 1149,
     "metadata": {},
     "output_type": "execute_result"
    }
   ],
   "source": [
    "archive[['doggo','floofer','pupper','puppo']].describe()"
   ]
  },
  {
   "cell_type": "code",
   "execution_count": 1150,
   "metadata": {},
   "outputs": [],
   "source": [
    "archive['Stage'] = archive['pupper']+archive['floofer']+archive['puppo']+archive['doggo']"
   ]
  },
  {
   "cell_type": "code",
   "execution_count": 1151,
   "metadata": {
    "scrolled": true
   },
   "outputs": [
    {
     "data": {
      "text/html": [
       "<div>\n",
       "<style scoped>\n",
       "    .dataframe tbody tr th:only-of-type {\n",
       "        vertical-align: middle;\n",
       "    }\n",
       "\n",
       "    .dataframe tbody tr th {\n",
       "        vertical-align: top;\n",
       "    }\n",
       "\n",
       "    .dataframe thead th {\n",
       "        text-align: right;\n",
       "    }\n",
       "</style>\n",
       "<table border=\"1\" class=\"dataframe\">\n",
       "  <thead>\n",
       "    <tr style=\"text-align: right;\">\n",
       "      <th></th>\n",
       "      <th>doggo</th>\n",
       "      <th>floofer</th>\n",
       "      <th>pupper</th>\n",
       "      <th>puppo</th>\n",
       "    </tr>\n",
       "  </thead>\n",
       "  <tbody>\n",
       "    <tr>\n",
       "      <th>count</th>\n",
       "      <td>2175</td>\n",
       "      <td>2175</td>\n",
       "      <td>2175</td>\n",
       "      <td>2175</td>\n",
       "    </tr>\n",
       "    <tr>\n",
       "      <th>unique</th>\n",
       "      <td>2</td>\n",
       "      <td>2</td>\n",
       "      <td>2</td>\n",
       "      <td>2</td>\n",
       "    </tr>\n",
       "    <tr>\n",
       "      <th>top</th>\n",
       "      <td></td>\n",
       "      <td></td>\n",
       "      <td></td>\n",
       "      <td></td>\n",
       "    </tr>\n",
       "    <tr>\n",
       "      <th>freq</th>\n",
       "      <td>2088</td>\n",
       "      <td>2165</td>\n",
       "      <td>1941</td>\n",
       "      <td>2150</td>\n",
       "    </tr>\n",
       "  </tbody>\n",
       "</table>\n",
       "</div>"
      ],
      "text/plain": [
       "       doggo floofer pupper puppo\n",
       "count   2175    2175   2175  2175\n",
       "unique     2       2      2     2\n",
       "top                              \n",
       "freq    2088    2165   1941  2150"
      ]
     },
     "execution_count": 1151,
     "metadata": {},
     "output_type": "execute_result"
    }
   ],
   "source": [
    "archive[['doggo','floofer','pupper','puppo']].describe()"
   ]
  },
  {
   "cell_type": "code",
   "execution_count": 1152,
   "metadata": {},
   "outputs": [
    {
     "data": {
      "text/plain": [
       "doggo      2\n",
       "floofer    2\n",
       "pupper     2\n",
       "puppo      2\n",
       "dtype: int64"
      ]
     },
     "execution_count": 1152,
     "metadata": {},
     "output_type": "execute_result"
    }
   ],
   "source": [
    "archive[['doggo','floofer','pupper','puppo']].nunique()"
   ]
  },
  {
   "cell_type": "markdown",
   "metadata": {},
   "source": [
    "**Interseting** next cells will show records of dogs with hyprid stages. "
   ]
  },
  {
   "cell_type": "code",
   "execution_count": 1153,
   "metadata": {},
   "outputs": [
    {
     "data": {
      "text/plain": [
       "array(['', 'doggo', 'puppo', 'pupper', 'floofer', 'puppodoggo',\n",
       "       'flooferdoggo', 'pupperdoggo'], dtype=object)"
      ]
     },
     "execution_count": 1153,
     "metadata": {},
     "output_type": "execute_result"
    }
   ],
   "source": [
    "archive.Stage.unique()"
   ]
  },
  {
   "cell_type": "code",
   "execution_count": 1154,
   "metadata": {},
   "outputs": [],
   "source": [
    "archive.Stage.replace(archive.Stage.unique()[0],'Undefined',inplace=True)"
   ]
  },
  {
   "cell_type": "code",
   "execution_count": 1155,
   "metadata": {},
   "outputs": [
    {
     "data": {
      "text/plain": [
       "tweet_id              12\n",
       "timestamp             12\n",
       "source                12\n",
       "text                  12\n",
       "expanded_urls         12\n",
       "rating_numerator      12\n",
       "rating_denominator    12\n",
       "name                  12\n",
       "doggo                 12\n",
       "floofer               12\n",
       "pupper                12\n",
       "puppo                 12\n",
       "Stage                 12\n",
       "dtype: int64"
      ]
     },
     "execution_count": 1155,
     "metadata": {},
     "output_type": "execute_result"
    }
   ],
   "source": [
    "archive.query('Stage==\"flooferdoggo\"|Stage==\"pupperdoggo\"|Stage==\"puppodoggo\"').count()"
   ]
  },
  {
   "cell_type": "code",
   "execution_count": 1156,
   "metadata": {
    "scrolled": false
   },
   "outputs": [
    {
     "data": {
      "text/html": [
       "<div>\n",
       "<style scoped>\n",
       "    .dataframe tbody tr th:only-of-type {\n",
       "        vertical-align: middle;\n",
       "    }\n",
       "\n",
       "    .dataframe tbody tr th {\n",
       "        vertical-align: top;\n",
       "    }\n",
       "\n",
       "    .dataframe thead th {\n",
       "        text-align: right;\n",
       "    }\n",
       "</style>\n",
       "<table border=\"1\" class=\"dataframe\">\n",
       "  <thead>\n",
       "    <tr style=\"text-align: right;\">\n",
       "      <th></th>\n",
       "      <th>tweet_id</th>\n",
       "      <th>timestamp</th>\n",
       "      <th>source</th>\n",
       "      <th>text</th>\n",
       "      <th>expanded_urls</th>\n",
       "      <th>rating_numerator</th>\n",
       "      <th>rating_denominator</th>\n",
       "      <th>name</th>\n",
       "      <th>doggo</th>\n",
       "      <th>floofer</th>\n",
       "      <th>pupper</th>\n",
       "      <th>puppo</th>\n",
       "      <th>Stage</th>\n",
       "    </tr>\n",
       "  </thead>\n",
       "  <tbody>\n",
       "    <tr>\n",
       "      <th>1271</th>\n",
       "      <td>709409458133323776</td>\n",
       "      <td>2016-03-14 16:02:49</td>\n",
       "      <td>Twitter for iPhone</td>\n",
       "      <td>This is Billy. He sensed a squirrel. 8/10 damn...</td>\n",
       "      <td>https://twitter.com/dog_rates/status/709409458...</td>\n",
       "      <td>8</td>\n",
       "      <td>10</td>\n",
       "      <td>Billy</td>\n",
       "      <td></td>\n",
       "      <td></td>\n",
       "      <td></td>\n",
       "      <td></td>\n",
       "      <td>Undefined</td>\n",
       "    </tr>\n",
       "    <tr>\n",
       "      <th>1158</th>\n",
       "      <td>724049859469295616</td>\n",
       "      <td>2016-04-24 01:38:33</td>\n",
       "      <td>Twitter for iPhone</td>\n",
       "      <td>This is Kreggory. He just took a look at his s...</td>\n",
       "      <td>https://twitter.com/dog_rates/status/724049859...</td>\n",
       "      <td>10</td>\n",
       "      <td>10</td>\n",
       "      <td>Kreggory</td>\n",
       "      <td></td>\n",
       "      <td></td>\n",
       "      <td></td>\n",
       "      <td></td>\n",
       "      <td>Undefined</td>\n",
       "    </tr>\n",
       "    <tr>\n",
       "      <th>608</th>\n",
       "      <td>797971864723324932</td>\n",
       "      <td>2016-11-14 01:18:12</td>\n",
       "      <td>Twitter for iPhone</td>\n",
       "      <td>Here's a helicopter pupper. He takes off at ra...</td>\n",
       "      <td>https://twitter.com/dog_rates/status/797971864...</td>\n",
       "      <td>12</td>\n",
       "      <td>10</td>\n",
       "      <td>Unnammed</td>\n",
       "      <td></td>\n",
       "      <td></td>\n",
       "      <td>pupper</td>\n",
       "      <td></td>\n",
       "      <td>pupper</td>\n",
       "    </tr>\n",
       "    <tr>\n",
       "      <th>31</th>\n",
       "      <td>886258384151887873</td>\n",
       "      <td>2017-07-15 16:17:19</td>\n",
       "      <td>Twitter for iPhone</td>\n",
       "      <td>This is Waffles. His doggles are pupside down....</td>\n",
       "      <td>https://twitter.com/dog_rates/status/886258384...</td>\n",
       "      <td>13</td>\n",
       "      <td>10</td>\n",
       "      <td>Waffles</td>\n",
       "      <td></td>\n",
       "      <td></td>\n",
       "      <td></td>\n",
       "      <td></td>\n",
       "      <td>Undefined</td>\n",
       "    </tr>\n",
       "    <tr>\n",
       "      <th>1486</th>\n",
       "      <td>693109034023534592</td>\n",
       "      <td>2016-01-29 16:30:45</td>\n",
       "      <td>Twitter for iPhone</td>\n",
       "      <td>\"Thank you friend that was a swell petting\" 11...</td>\n",
       "      <td>https://twitter.com/dog_rates/status/693109034...</td>\n",
       "      <td>11</td>\n",
       "      <td>10</td>\n",
       "      <td>Unnammed</td>\n",
       "      <td></td>\n",
       "      <td></td>\n",
       "      <td></td>\n",
       "      <td></td>\n",
       "      <td>Undefined</td>\n",
       "    </tr>\n",
       "  </tbody>\n",
       "</table>\n",
       "</div>"
      ],
      "text/plain": [
       "                tweet_id           timestamp              source  \\\n",
       "1271  709409458133323776 2016-03-14 16:02:49  Twitter for iPhone   \n",
       "1158  724049859469295616 2016-04-24 01:38:33  Twitter for iPhone   \n",
       "608   797971864723324932 2016-11-14 01:18:12  Twitter for iPhone   \n",
       "31    886258384151887873 2017-07-15 16:17:19  Twitter for iPhone   \n",
       "1486  693109034023534592 2016-01-29 16:30:45  Twitter for iPhone   \n",
       "\n",
       "                                                   text  \\\n",
       "1271  This is Billy. He sensed a squirrel. 8/10 damn...   \n",
       "1158  This is Kreggory. He just took a look at his s...   \n",
       "608   Here's a helicopter pupper. He takes off at ra...   \n",
       "31    This is Waffles. His doggles are pupside down....   \n",
       "1486  \"Thank you friend that was a swell petting\" 11...   \n",
       "\n",
       "                                          expanded_urls  rating_numerator  \\\n",
       "1271  https://twitter.com/dog_rates/status/709409458...                 8   \n",
       "1158  https://twitter.com/dog_rates/status/724049859...                10   \n",
       "608   https://twitter.com/dog_rates/status/797971864...                12   \n",
       "31    https://twitter.com/dog_rates/status/886258384...                13   \n",
       "1486  https://twitter.com/dog_rates/status/693109034...                11   \n",
       "\n",
       "      rating_denominator      name doggo floofer  pupper puppo      Stage  \n",
       "1271                  10     Billy                              Undefined  \n",
       "1158                  10  Kreggory                              Undefined  \n",
       "608                   10  Unnammed                pupper           pupper  \n",
       "31                    10   Waffles                              Undefined  \n",
       "1486                  10  Unnammed                              Undefined  "
      ]
     },
     "execution_count": 1156,
     "metadata": {},
     "output_type": "execute_result"
    }
   ],
   "source": [
    "archive.query('Stage !=\"\" ').sample(5)"
   ]
  },
  {
   "cell_type": "markdown",
   "metadata": {},
   "source": [
    "**Seprated stages columns** now not requried, can be removed. "
   ]
  },
  {
   "cell_type": "code",
   "execution_count": 1157,
   "metadata": {},
   "outputs": [
    {
     "data": {
      "text/plain": [
       "Undefined       1831\n",
       "pupper           224\n",
       "doggo             75\n",
       "puppo             24\n",
       "pupperdoggo       10\n",
       "floofer            9\n",
       "puppodoggo         1\n",
       "flooferdoggo       1\n",
       "Name: Stage, dtype: int64"
      ]
     },
     "execution_count": 1157,
     "metadata": {},
     "output_type": "execute_result"
    }
   ],
   "source": [
    "archive.drop(['doggo','floofer','puppo','pupper'],axis=1,inplace=True)\n",
    "archive.Stage.value_counts()"
   ]
  },
  {
   "cell_type": "markdown",
   "metadata": {},
   "source": [
    "## 3.7 - Rating Values numerator & denominator. \n",
    "\n",
    "these values better calculated as they mean nothing, a new column will be called 'Score' is going to be result of numerator/denominator. "
   ]
  },
  {
   "cell_type": "code",
   "execution_count": 1158,
   "metadata": {},
   "outputs": [],
   "source": [
    "archive['score'] = archive.rating_numerator / archive.rating_denominator\n",
    "archive.drop(['rating_numerator','rating_denominator'],axis=1,inplace=True)"
   ]
  },
  {
   "cell_type": "code",
   "execution_count": 1159,
   "metadata": {},
   "outputs": [
    {
     "data": {
      "text/html": [
       "<div>\n",
       "<style scoped>\n",
       "    .dataframe tbody tr th:only-of-type {\n",
       "        vertical-align: middle;\n",
       "    }\n",
       "\n",
       "    .dataframe tbody tr th {\n",
       "        vertical-align: top;\n",
       "    }\n",
       "\n",
       "    .dataframe thead th {\n",
       "        text-align: right;\n",
       "    }\n",
       "</style>\n",
       "<table border=\"1\" class=\"dataframe\">\n",
       "  <thead>\n",
       "    <tr style=\"text-align: right;\">\n",
       "      <th></th>\n",
       "      <th>tweet_id</th>\n",
       "      <th>timestamp</th>\n",
       "      <th>source</th>\n",
       "      <th>text</th>\n",
       "      <th>expanded_urls</th>\n",
       "      <th>name</th>\n",
       "      <th>Stage</th>\n",
       "      <th>score</th>\n",
       "    </tr>\n",
       "  </thead>\n",
       "  <tbody>\n",
       "    <tr>\n",
       "      <th>1245</th>\n",
       "      <td>711732680602345472</td>\n",
       "      <td>2016-03-21 01:54:29</td>\n",
       "      <td>Twitter for iPhone</td>\n",
       "      <td>I want to hear the joke this dog was just told...</td>\n",
       "      <td>https://twitter.com/dog_rates/status/711732680...</td>\n",
       "      <td>Unnammed</td>\n",
       "      <td>Undefined</td>\n",
       "      <td>1.000000</td>\n",
       "    </tr>\n",
       "    <tr>\n",
       "      <th>1154</th>\n",
       "      <td>725458796924002305</td>\n",
       "      <td>2016-04-27 22:57:10</td>\n",
       "      <td>Twitter for iPhone</td>\n",
       "      <td>Pup had to be removed cuz it wouldn't have bee...</td>\n",
       "      <td>https://twitter.com/foxdeportes/status/7251360...</td>\n",
       "      <td>Unnammed</td>\n",
       "      <td>Undefined</td>\n",
       "      <td>1.300000</td>\n",
       "    </tr>\n",
       "    <tr>\n",
       "      <th>1232</th>\n",
       "      <td>713175907180089344</td>\n",
       "      <td>2016-03-25 01:29:21</td>\n",
       "      <td>Twitter for iPhone</td>\n",
       "      <td>Say hello to Opie and Clarkus. Clarkus fell as...</td>\n",
       "      <td>https://twitter.com/dog_rates/status/713175907...</td>\n",
       "      <td>Opie</td>\n",
       "      <td>Undefined</td>\n",
       "      <td>1.000000</td>\n",
       "    </tr>\n",
       "    <tr>\n",
       "      <th>381</th>\n",
       "      <td>827324948884643840</td>\n",
       "      <td>2017-02-03 01:16:53</td>\n",
       "      <td>Twitter for iPhone</td>\n",
       "      <td>This is Ralphie. He's being treated for an ove...</td>\n",
       "      <td>https://twitter.com/dog_rates/status/827324948...</td>\n",
       "      <td>Ralphie</td>\n",
       "      <td>Undefined</td>\n",
       "      <td>1.200000</td>\n",
       "    </tr>\n",
       "    <tr>\n",
       "      <th>342</th>\n",
       "      <td>832088576586297345</td>\n",
       "      <td>2017-02-16 04:45:50</td>\n",
       "      <td>Twitter for iPhone</td>\n",
       "      <td>@docmisterio account started on 11/15/15</td>\n",
       "      <td>NaN</td>\n",
       "      <td>Unnammed</td>\n",
       "      <td>Undefined</td>\n",
       "      <td>0.733333</td>\n",
       "    </tr>\n",
       "  </tbody>\n",
       "</table>\n",
       "</div>"
      ],
      "text/plain": [
       "                tweet_id           timestamp              source  \\\n",
       "1245  711732680602345472 2016-03-21 01:54:29  Twitter for iPhone   \n",
       "1154  725458796924002305 2016-04-27 22:57:10  Twitter for iPhone   \n",
       "1232  713175907180089344 2016-03-25 01:29:21  Twitter for iPhone   \n",
       "381   827324948884643840 2017-02-03 01:16:53  Twitter for iPhone   \n",
       "342   832088576586297345 2017-02-16 04:45:50  Twitter for iPhone   \n",
       "\n",
       "                                                   text  \\\n",
       "1245  I want to hear the joke this dog was just told...   \n",
       "1154  Pup had to be removed cuz it wouldn't have bee...   \n",
       "1232  Say hello to Opie and Clarkus. Clarkus fell as...   \n",
       "381   This is Ralphie. He's being treated for an ove...   \n",
       "342            @docmisterio account started on 11/15/15   \n",
       "\n",
       "                                          expanded_urls      name      Stage  \\\n",
       "1245  https://twitter.com/dog_rates/status/711732680...  Unnammed  Undefined   \n",
       "1154  https://twitter.com/foxdeportes/status/7251360...  Unnammed  Undefined   \n",
       "1232  https://twitter.com/dog_rates/status/713175907...      Opie  Undefined   \n",
       "381   https://twitter.com/dog_rates/status/827324948...   Ralphie  Undefined   \n",
       "342                                                 NaN  Unnammed  Undefined   \n",
       "\n",
       "         score  \n",
       "1245  1.000000  \n",
       "1154  1.300000  \n",
       "1232  1.000000  \n",
       "381   1.200000  \n",
       "342   0.733333  "
      ]
     },
     "execution_count": 1159,
     "metadata": {},
     "output_type": "execute_result"
    }
   ],
   "source": [
    "archive.sample(5)"
   ]
  },
  {
   "cell_type": "code",
   "execution_count": 1160,
   "metadata": {},
   "outputs": [
    {
     "data": {
      "text/plain": [
       "(inf, 0.0)"
      ]
     },
     "execution_count": 1160,
     "metadata": {},
     "output_type": "execute_result"
    }
   ],
   "source": [
    "archive.score.max(),archive.score.min()"
   ]
  },
  {
   "cell_type": "markdown",
   "metadata": {},
   "source": [
    "Several records have resulted unlogical scores, so they would be better removed. "
   ]
  },
  {
   "cell_type": "code",
   "execution_count": 1161,
   "metadata": {},
   "outputs": [
    {
     "data": {
      "text/html": [
       "<div>\n",
       "<style scoped>\n",
       "    .dataframe tbody tr th:only-of-type {\n",
       "        vertical-align: middle;\n",
       "    }\n",
       "\n",
       "    .dataframe tbody tr th {\n",
       "        vertical-align: top;\n",
       "    }\n",
       "\n",
       "    .dataframe thead th {\n",
       "        text-align: right;\n",
       "    }\n",
       "</style>\n",
       "<table border=\"1\" class=\"dataframe\">\n",
       "  <thead>\n",
       "    <tr style=\"text-align: right;\">\n",
       "      <th></th>\n",
       "      <th>tweet_id</th>\n",
       "      <th>timestamp</th>\n",
       "      <th>source</th>\n",
       "      <th>text</th>\n",
       "      <th>expanded_urls</th>\n",
       "      <th>name</th>\n",
       "      <th>Stage</th>\n",
       "      <th>score</th>\n",
       "    </tr>\n",
       "  </thead>\n",
       "  <tbody>\n",
       "    <tr>\n",
       "      <th>188</th>\n",
       "      <td>855862651834028034</td>\n",
       "      <td>2017-04-22 19:15:32</td>\n",
       "      <td>Twitter for iPhone</td>\n",
       "      <td>@dhmontgomery We also gave snoop dogg a 420/10...</td>\n",
       "      <td>NaN</td>\n",
       "      <td>Unnammed</td>\n",
       "      <td>Undefined</td>\n",
       "      <td>42.000000</td>\n",
       "    </tr>\n",
       "    <tr>\n",
       "      <th>189</th>\n",
       "      <td>855860136149123072</td>\n",
       "      <td>2017-04-22 19:05:32</td>\n",
       "      <td>Twitter for iPhone</td>\n",
       "      <td>@s8n You tried very hard to portray this good ...</td>\n",
       "      <td>NaN</td>\n",
       "      <td>Unnammed</td>\n",
       "      <td>Undefined</td>\n",
       "      <td>66.600000</td>\n",
       "    </tr>\n",
       "    <tr>\n",
       "      <th>290</th>\n",
       "      <td>838150277551247360</td>\n",
       "      <td>2017-03-04 22:12:52</td>\n",
       "      <td>Twitter for iPhone</td>\n",
       "      <td>@markhoppus 182/10</td>\n",
       "      <td>NaN</td>\n",
       "      <td>Unnammed</td>\n",
       "      <td>Undefined</td>\n",
       "      <td>18.200000</td>\n",
       "    </tr>\n",
       "    <tr>\n",
       "      <th>313</th>\n",
       "      <td>835246439529840640</td>\n",
       "      <td>2017-02-24 21:54:03</td>\n",
       "      <td>Twitter for iPhone</td>\n",
       "      <td>@jonnysun @Lin_Manuel ok jomny I know you're e...</td>\n",
       "      <td>NaN</td>\n",
       "      <td>Unnammed</td>\n",
       "      <td>Undefined</td>\n",
       "      <td>inf</td>\n",
       "    </tr>\n",
       "    <tr>\n",
       "      <th>516</th>\n",
       "      <td>810984652412424192</td>\n",
       "      <td>2016-12-19 23:06:23</td>\n",
       "      <td>Twitter for iPhone</td>\n",
       "      <td>Meet Sam. She smiles 24/7 &amp;amp; secretly aspir...</td>\n",
       "      <td>https://www.gofundme.com/sams-smile,https://tw...</td>\n",
       "      <td>Sam</td>\n",
       "      <td>Undefined</td>\n",
       "      <td>3.428571</td>\n",
       "    </tr>\n",
       "    <tr>\n",
       "      <th>695</th>\n",
       "      <td>786709082849828864</td>\n",
       "      <td>2016-10-13 23:23:56</td>\n",
       "      <td>Twitter for iPhone</td>\n",
       "      <td>This is Logan, the Chow who lived. He solemnly...</td>\n",
       "      <td>https://twitter.com/dog_rates/status/786709082...</td>\n",
       "      <td>Logan</td>\n",
       "      <td>Undefined</td>\n",
       "      <td>7.500000</td>\n",
       "    </tr>\n",
       "    <tr>\n",
       "      <th>763</th>\n",
       "      <td>778027034220126208</td>\n",
       "      <td>2016-09-20 00:24:34</td>\n",
       "      <td>Twitter for iPhone</td>\n",
       "      <td>This is Sophie. She's a Jubilant Bush Pupper. ...</td>\n",
       "      <td>https://twitter.com/dog_rates/status/778027034...</td>\n",
       "      <td>Sophie</td>\n",
       "      <td>pupper</td>\n",
       "      <td>2.700000</td>\n",
       "    </tr>\n",
       "    <tr>\n",
       "      <th>979</th>\n",
       "      <td>749981277374128128</td>\n",
       "      <td>2016-07-04 15:00:45</td>\n",
       "      <td>TweetDeck</td>\n",
       "      <td>This is Atticus. He's quite simply America af....</td>\n",
       "      <td>https://twitter.com/dog_rates/status/749981277...</td>\n",
       "      <td>Atticus</td>\n",
       "      <td>Undefined</td>\n",
       "      <td>177.600000</td>\n",
       "    </tr>\n",
       "    <tr>\n",
       "      <th>1712</th>\n",
       "      <td>680494726643068929</td>\n",
       "      <td>2015-12-25 21:06:00</td>\n",
       "      <td>Twitter for iPhone</td>\n",
       "      <td>Here we have uncovered an entire battalion of ...</td>\n",
       "      <td>https://twitter.com/dog_rates/status/680494726...</td>\n",
       "      <td>Unnammed</td>\n",
       "      <td>Undefined</td>\n",
       "      <td>2.600000</td>\n",
       "    </tr>\n",
       "    <tr>\n",
       "      <th>2074</th>\n",
       "      <td>670842764863651840</td>\n",
       "      <td>2015-11-29 05:52:33</td>\n",
       "      <td>Twitter for iPhone</td>\n",
       "      <td>After so many requests... here you go.\\n\\nGood...</td>\n",
       "      <td>https://twitter.com/dog_rates/status/670842764...</td>\n",
       "      <td>Unnammed</td>\n",
       "      <td>Undefined</td>\n",
       "      <td>42.000000</td>\n",
       "    </tr>\n",
       "  </tbody>\n",
       "</table>\n",
       "</div>"
      ],
      "text/plain": [
       "                tweet_id           timestamp              source  \\\n",
       "188   855862651834028034 2017-04-22 19:15:32  Twitter for iPhone   \n",
       "189   855860136149123072 2017-04-22 19:05:32  Twitter for iPhone   \n",
       "290   838150277551247360 2017-03-04 22:12:52  Twitter for iPhone   \n",
       "313   835246439529840640 2017-02-24 21:54:03  Twitter for iPhone   \n",
       "516   810984652412424192 2016-12-19 23:06:23  Twitter for iPhone   \n",
       "695   786709082849828864 2016-10-13 23:23:56  Twitter for iPhone   \n",
       "763   778027034220126208 2016-09-20 00:24:34  Twitter for iPhone   \n",
       "979   749981277374128128 2016-07-04 15:00:45           TweetDeck   \n",
       "1712  680494726643068929 2015-12-25 21:06:00  Twitter for iPhone   \n",
       "2074  670842764863651840 2015-11-29 05:52:33  Twitter for iPhone   \n",
       "\n",
       "                                                   text  \\\n",
       "188   @dhmontgomery We also gave snoop dogg a 420/10...   \n",
       "189   @s8n You tried very hard to portray this good ...   \n",
       "290                                  @markhoppus 182/10   \n",
       "313   @jonnysun @Lin_Manuel ok jomny I know you're e...   \n",
       "516   Meet Sam. She smiles 24/7 &amp; secretly aspir...   \n",
       "695   This is Logan, the Chow who lived. He solemnly...   \n",
       "763   This is Sophie. She's a Jubilant Bush Pupper. ...   \n",
       "979   This is Atticus. He's quite simply America af....   \n",
       "1712  Here we have uncovered an entire battalion of ...   \n",
       "2074  After so many requests... here you go.\\n\\nGood...   \n",
       "\n",
       "                                          expanded_urls      name      Stage  \\\n",
       "188                                                 NaN  Unnammed  Undefined   \n",
       "189                                                 NaN  Unnammed  Undefined   \n",
       "290                                                 NaN  Unnammed  Undefined   \n",
       "313                                                 NaN  Unnammed  Undefined   \n",
       "516   https://www.gofundme.com/sams-smile,https://tw...       Sam  Undefined   \n",
       "695   https://twitter.com/dog_rates/status/786709082...     Logan  Undefined   \n",
       "763   https://twitter.com/dog_rates/status/778027034...    Sophie     pupper   \n",
       "979   https://twitter.com/dog_rates/status/749981277...   Atticus  Undefined   \n",
       "1712  https://twitter.com/dog_rates/status/680494726...  Unnammed  Undefined   \n",
       "2074  https://twitter.com/dog_rates/status/670842764...  Unnammed  Undefined   \n",
       "\n",
       "           score  \n",
       "188    42.000000  \n",
       "189    66.600000  \n",
       "290    18.200000  \n",
       "313          inf  \n",
       "516     3.428571  \n",
       "695     7.500000  \n",
       "763     2.700000  \n",
       "979   177.600000  \n",
       "1712    2.600000  \n",
       "2074   42.000000  "
      ]
     },
     "execution_count": 1161,
     "metadata": {},
     "output_type": "execute_result"
    }
   ],
   "source": [
    "archive.query('score > 2')"
   ]
  },
  {
   "cell_type": "code",
   "execution_count": 1162,
   "metadata": {},
   "outputs": [],
   "source": [
    "archive.drop(archive.query('score > 2').index, inplace=True)"
   ]
  },
  {
   "cell_type": "markdown",
   "metadata": {},
   "source": [
    "# 4 - Image Prediction\n",
    "\n"
   ]
  },
  {
   "cell_type": "code",
   "execution_count": 1163,
   "metadata": {
    "scrolled": false
   },
   "outputs": [
    {
     "data": {
      "text/html": [
       "<div>\n",
       "<style scoped>\n",
       "    .dataframe tbody tr th:only-of-type {\n",
       "        vertical-align: middle;\n",
       "    }\n",
       "\n",
       "    .dataframe tbody tr th {\n",
       "        vertical-align: top;\n",
       "    }\n",
       "\n",
       "    .dataframe thead th {\n",
       "        text-align: right;\n",
       "    }\n",
       "</style>\n",
       "<table border=\"1\" class=\"dataframe\">\n",
       "  <thead>\n",
       "    <tr style=\"text-align: right;\">\n",
       "      <th></th>\n",
       "      <th>tweet_id</th>\n",
       "      <th>jpg_url</th>\n",
       "      <th>img_num</th>\n",
       "      <th>p1</th>\n",
       "      <th>p1_conf</th>\n",
       "      <th>p1_dog</th>\n",
       "      <th>p2</th>\n",
       "      <th>p2_conf</th>\n",
       "      <th>p2_dog</th>\n",
       "      <th>p3</th>\n",
       "      <th>p3_conf</th>\n",
       "      <th>p3_dog</th>\n",
       "    </tr>\n",
       "  </thead>\n",
       "  <tbody>\n",
       "    <tr>\n",
       "      <th>0</th>\n",
       "      <td>666020888022790149</td>\n",
       "      <td>https://pbs.twimg.com/media/CT4udn0WwAA0aMy.jpg</td>\n",
       "      <td>1</td>\n",
       "      <td>Welsh_springer_spaniel</td>\n",
       "      <td>0.465074</td>\n",
       "      <td>True</td>\n",
       "      <td>collie</td>\n",
       "      <td>0.156665</td>\n",
       "      <td>True</td>\n",
       "      <td>Shetland_sheepdog</td>\n",
       "      <td>0.061428</td>\n",
       "      <td>True</td>\n",
       "    </tr>\n",
       "    <tr>\n",
       "      <th>1</th>\n",
       "      <td>666029285002620928</td>\n",
       "      <td>https://pbs.twimg.com/media/CT42GRgUYAA5iDo.jpg</td>\n",
       "      <td>1</td>\n",
       "      <td>redbone</td>\n",
       "      <td>0.506826</td>\n",
       "      <td>True</td>\n",
       "      <td>miniature_pinscher</td>\n",
       "      <td>0.074192</td>\n",
       "      <td>True</td>\n",
       "      <td>Rhodesian_ridgeback</td>\n",
       "      <td>0.072010</td>\n",
       "      <td>True</td>\n",
       "    </tr>\n",
       "    <tr>\n",
       "      <th>2</th>\n",
       "      <td>666033412701032449</td>\n",
       "      <td>https://pbs.twimg.com/media/CT4521TWwAEvMyu.jpg</td>\n",
       "      <td>1</td>\n",
       "      <td>German_shepherd</td>\n",
       "      <td>0.596461</td>\n",
       "      <td>True</td>\n",
       "      <td>malinois</td>\n",
       "      <td>0.138584</td>\n",
       "      <td>True</td>\n",
       "      <td>bloodhound</td>\n",
       "      <td>0.116197</td>\n",
       "      <td>True</td>\n",
       "    </tr>\n",
       "    <tr>\n",
       "      <th>3</th>\n",
       "      <td>666044226329800704</td>\n",
       "      <td>https://pbs.twimg.com/media/CT5Dr8HUEAA-lEu.jpg</td>\n",
       "      <td>1</td>\n",
       "      <td>Rhodesian_ridgeback</td>\n",
       "      <td>0.408143</td>\n",
       "      <td>True</td>\n",
       "      <td>redbone</td>\n",
       "      <td>0.360687</td>\n",
       "      <td>True</td>\n",
       "      <td>miniature_pinscher</td>\n",
       "      <td>0.222752</td>\n",
       "      <td>True</td>\n",
       "    </tr>\n",
       "    <tr>\n",
       "      <th>4</th>\n",
       "      <td>666049248165822465</td>\n",
       "      <td>https://pbs.twimg.com/media/CT5IQmsXIAAKY4A.jpg</td>\n",
       "      <td>1</td>\n",
       "      <td>miniature_pinscher</td>\n",
       "      <td>0.560311</td>\n",
       "      <td>True</td>\n",
       "      <td>Rottweiler</td>\n",
       "      <td>0.243682</td>\n",
       "      <td>True</td>\n",
       "      <td>Doberman</td>\n",
       "      <td>0.154629</td>\n",
       "      <td>True</td>\n",
       "    </tr>\n",
       "  </tbody>\n",
       "</table>\n",
       "</div>"
      ],
      "text/plain": [
       "             tweet_id                                          jpg_url  \\\n",
       "0  666020888022790149  https://pbs.twimg.com/media/CT4udn0WwAA0aMy.jpg   \n",
       "1  666029285002620928  https://pbs.twimg.com/media/CT42GRgUYAA5iDo.jpg   \n",
       "2  666033412701032449  https://pbs.twimg.com/media/CT4521TWwAEvMyu.jpg   \n",
       "3  666044226329800704  https://pbs.twimg.com/media/CT5Dr8HUEAA-lEu.jpg   \n",
       "4  666049248165822465  https://pbs.twimg.com/media/CT5IQmsXIAAKY4A.jpg   \n",
       "\n",
       "   img_num                      p1   p1_conf  p1_dog                  p2  \\\n",
       "0        1  Welsh_springer_spaniel  0.465074    True              collie   \n",
       "1        1                 redbone  0.506826    True  miniature_pinscher   \n",
       "2        1         German_shepherd  0.596461    True            malinois   \n",
       "3        1     Rhodesian_ridgeback  0.408143    True             redbone   \n",
       "4        1      miniature_pinscher  0.560311    True          Rottweiler   \n",
       "\n",
       "    p2_conf  p2_dog                   p3   p3_conf  p3_dog  \n",
       "0  0.156665    True    Shetland_sheepdog  0.061428    True  \n",
       "1  0.074192    True  Rhodesian_ridgeback  0.072010    True  \n",
       "2  0.138584    True           bloodhound  0.116197    True  \n",
       "3  0.360687    True   miniature_pinscher  0.222752    True  \n",
       "4  0.243682    True             Doberman  0.154629    True  "
      ]
     },
     "execution_count": 1163,
     "metadata": {},
     "output_type": "execute_result"
    }
   ],
   "source": [
    "image_prediction.head()"
   ]
  },
  {
   "cell_type": "markdown",
   "metadata": {},
   "source": [
    "## 4.1 - tweet_id Column fix"
   ]
  },
  {
   "cell_type": "code",
   "execution_count": 1164,
   "metadata": {},
   "outputs": [
    {
     "data": {
      "text/plain": [
       "tweet_id    0\n",
       "jpg_url     0\n",
       "img_num     0\n",
       "p1          0\n",
       "p1_conf     0\n",
       "p1_dog      0\n",
       "p2          0\n",
       "p2_conf     0\n",
       "p2_dog      0\n",
       "p3          0\n",
       "p3_conf     0\n",
       "p3_dog      0\n",
       "dtype: int64"
      ]
     },
     "execution_count": 1164,
     "metadata": {},
     "output_type": "execute_result"
    }
   ],
   "source": [
    "image_prediction['tweet_id'] = image_prediction.tweet_id.astype(str)\n",
    "image_prediction.isnull().sum()"
   ]
  },
  {
   "cell_type": "markdown",
   "metadata": {},
   "source": [
    "## 4.2 - Removal of records of non-dog images\n",
    "\n",
    "several records have shown images of non-dogs, so they will be inspected and removed. "
   ]
  },
  {
   "cell_type": "code",
   "execution_count": 1165,
   "metadata": {
    "scrolled": true
   },
   "outputs": [
    {
     "name": "stdout",
     "output_type": "stream",
     "text": [
      "Number of records that dont seem to be dogs:  324\n"
     ]
    }
   ],
   "source": [
    "not_dogs = (image_prediction.p1_dog==False) & (image_prediction.p2_dog==False) & (image_prediction.p3_dog==False)\n",
    "print('Number of records that dont seem to be dogs: ' ,+ not_dogs.sum())"
   ]
  },
  {
   "cell_type": "code",
   "execution_count": 1166,
   "metadata": {},
   "outputs": [],
   "source": [
    "index = image_prediction[not_dogs].index\n",
    "image_prediction.drop(index,inplace=True)"
   ]
  },
  {
   "cell_type": "markdown",
   "metadata": {},
   "source": [
    "**p_conf & p_dog** vlaues could be better combined.  "
   ]
  },
  {
   "cell_type": "code",
   "execution_count": 1167,
   "metadata": {},
   "outputs": [
    {
     "data": {
      "text/html": [
       "<div>\n",
       "<style scoped>\n",
       "    .dataframe tbody tr th:only-of-type {\n",
       "        vertical-align: middle;\n",
       "    }\n",
       "\n",
       "    .dataframe tbody tr th {\n",
       "        vertical-align: top;\n",
       "    }\n",
       "\n",
       "    .dataframe thead th {\n",
       "        text-align: right;\n",
       "    }\n",
       "</style>\n",
       "<table border=\"1\" class=\"dataframe\">\n",
       "  <thead>\n",
       "    <tr style=\"text-align: right;\">\n",
       "      <th></th>\n",
       "      <th>tweet_id</th>\n",
       "      <th>jpg_url</th>\n",
       "      <th>img_num</th>\n",
       "      <th>p1</th>\n",
       "      <th>p2</th>\n",
       "      <th>p3</th>\n",
       "      <th>Pt</th>\n",
       "    </tr>\n",
       "  </thead>\n",
       "  <tbody>\n",
       "    <tr>\n",
       "      <th>0</th>\n",
       "      <td>666020888022790149</td>\n",
       "      <td>https://pbs.twimg.com/media/CT4udn0WwAA0aMy.jpg</td>\n",
       "      <td>1</td>\n",
       "      <td>Welsh_springer_spaniel</td>\n",
       "      <td>collie</td>\n",
       "      <td>Shetland_sheepdog</td>\n",
       "      <td>0.465074</td>\n",
       "    </tr>\n",
       "    <tr>\n",
       "      <th>1</th>\n",
       "      <td>666029285002620928</td>\n",
       "      <td>https://pbs.twimg.com/media/CT42GRgUYAA5iDo.jpg</td>\n",
       "      <td>1</td>\n",
       "      <td>redbone</td>\n",
       "      <td>miniature_pinscher</td>\n",
       "      <td>Rhodesian_ridgeback</td>\n",
       "      <td>0.506826</td>\n",
       "    </tr>\n",
       "    <tr>\n",
       "      <th>2</th>\n",
       "      <td>666033412701032449</td>\n",
       "      <td>https://pbs.twimg.com/media/CT4521TWwAEvMyu.jpg</td>\n",
       "      <td>1</td>\n",
       "      <td>German_shepherd</td>\n",
       "      <td>malinois</td>\n",
       "      <td>bloodhound</td>\n",
       "      <td>0.596461</td>\n",
       "    </tr>\n",
       "    <tr>\n",
       "      <th>3</th>\n",
       "      <td>666044226329800704</td>\n",
       "      <td>https://pbs.twimg.com/media/CT5Dr8HUEAA-lEu.jpg</td>\n",
       "      <td>1</td>\n",
       "      <td>Rhodesian_ridgeback</td>\n",
       "      <td>redbone</td>\n",
       "      <td>miniature_pinscher</td>\n",
       "      <td>0.408143</td>\n",
       "    </tr>\n",
       "    <tr>\n",
       "      <th>4</th>\n",
       "      <td>666049248165822465</td>\n",
       "      <td>https://pbs.twimg.com/media/CT5IQmsXIAAKY4A.jpg</td>\n",
       "      <td>1</td>\n",
       "      <td>miniature_pinscher</td>\n",
       "      <td>Rottweiler</td>\n",
       "      <td>Doberman</td>\n",
       "      <td>0.560311</td>\n",
       "    </tr>\n",
       "  </tbody>\n",
       "</table>\n",
       "</div>"
      ],
      "text/plain": [
       "             tweet_id                                          jpg_url  \\\n",
       "0  666020888022790149  https://pbs.twimg.com/media/CT4udn0WwAA0aMy.jpg   \n",
       "1  666029285002620928  https://pbs.twimg.com/media/CT42GRgUYAA5iDo.jpg   \n",
       "2  666033412701032449  https://pbs.twimg.com/media/CT4521TWwAEvMyu.jpg   \n",
       "3  666044226329800704  https://pbs.twimg.com/media/CT5Dr8HUEAA-lEu.jpg   \n",
       "4  666049248165822465  https://pbs.twimg.com/media/CT5IQmsXIAAKY4A.jpg   \n",
       "\n",
       "   img_num                      p1                  p2                   p3  \\\n",
       "0        1  Welsh_springer_spaniel              collie    Shetland_sheepdog   \n",
       "1        1                 redbone  miniature_pinscher  Rhodesian_ridgeback   \n",
       "2        1         German_shepherd            malinois           bloodhound   \n",
       "3        1     Rhodesian_ridgeback             redbone   miniature_pinscher   \n",
       "4        1      miniature_pinscher          Rottweiler             Doberman   \n",
       "\n",
       "         Pt  \n",
       "0  0.465074  \n",
       "1  0.506826  \n",
       "2  0.596461  \n",
       "3  0.408143  \n",
       "4  0.560311  "
      ]
     },
     "execution_count": 1167,
     "metadata": {},
     "output_type": "execute_result"
    }
   ],
   "source": [
    "image_prediction.drop(['p1_dog','p2_dog','p3_dog'],axis=1,inplace=True)\n",
    "image_prediction['Pt'] = (image_prediction['p1_conf'] + image_prediction['p1_conf'] + image_prediction['p1_conf'])/3\n",
    "\n",
    "image_prediction.drop(['p1_conf','p2_conf','p3_conf'],axis=1,inplace=True)\n",
    "image_prediction.head()"
   ]
  },
  {
   "cell_type": "markdown",
   "metadata": {},
   "source": [
    "## 4.3 - Removal of records with none valid jpg_urls"
   ]
  },
  {
   "cell_type": "code",
   "execution_count": 1168,
   "metadata": {},
   "outputs": [
    {
     "name": "stdout",
     "output_type": "stream",
     "text": [
      "non jpg urls found :  63\n"
     ]
    }
   ],
   "source": [
    "non_jpg_urls = image_prediction.jpg_url.str.contains('video')\n",
    "print('non jpg urls found : ', +sum(non_jpg_urls))"
   ]
  },
  {
   "cell_type": "code",
   "execution_count": 1169,
   "metadata": {},
   "outputs": [],
   "source": [
    "image_prediction.drop(image_prediction[non_jpg_urls].index,inplace=True)"
   ]
  },
  {
   "cell_type": "markdown",
   "metadata": {},
   "source": [
    "# 5 - Json Data"
   ]
  },
  {
   "cell_type": "code",
   "execution_count": 1170,
   "metadata": {},
   "outputs": [
    {
     "data": {
      "text/html": [
       "<div>\n",
       "<style scoped>\n",
       "    .dataframe tbody tr th:only-of-type {\n",
       "        vertical-align: middle;\n",
       "    }\n",
       "\n",
       "    .dataframe tbody tr th {\n",
       "        vertical-align: top;\n",
       "    }\n",
       "\n",
       "    .dataframe thead th {\n",
       "        text-align: right;\n",
       "    }\n",
       "</style>\n",
       "<table border=\"1\" class=\"dataframe\">\n",
       "  <thead>\n",
       "    <tr style=\"text-align: right;\">\n",
       "      <th></th>\n",
       "      <th>favorite_count</th>\n",
       "      <th>full_text</th>\n",
       "      <th>retweet_count</th>\n",
       "      <th>tweet_id</th>\n",
       "    </tr>\n",
       "  </thead>\n",
       "  <tbody>\n",
       "    <tr>\n",
       "      <th>0</th>\n",
       "      <td>39467</td>\n",
       "      <td>This is Phineas. He's a mystical boy. Only eve...</td>\n",
       "      <td>8853</td>\n",
       "      <td>892420643555336193</td>\n",
       "    </tr>\n",
       "    <tr>\n",
       "      <th>1</th>\n",
       "      <td>33819</td>\n",
       "      <td>This is Tilly. She's just checking pup on you....</td>\n",
       "      <td>6514</td>\n",
       "      <td>892177421306343426</td>\n",
       "    </tr>\n",
       "    <tr>\n",
       "      <th>2</th>\n",
       "      <td>25461</td>\n",
       "      <td>This is Archie. He is a rare Norwegian Pouncin...</td>\n",
       "      <td>4328</td>\n",
       "      <td>891815181378084864</td>\n",
       "    </tr>\n",
       "    <tr>\n",
       "      <th>3</th>\n",
       "      <td>42908</td>\n",
       "      <td>This is Darla. She commenced a snooze mid meal...</td>\n",
       "      <td>8964</td>\n",
       "      <td>891689557279858688</td>\n",
       "    </tr>\n",
       "    <tr>\n",
       "      <th>4</th>\n",
       "      <td>41048</td>\n",
       "      <td>This is Franklin. He would like you to stop ca...</td>\n",
       "      <td>9774</td>\n",
       "      <td>891327558926688256</td>\n",
       "    </tr>\n",
       "  </tbody>\n",
       "</table>\n",
       "</div>"
      ],
      "text/plain": [
       "   favorite_count                                          full_text  \\\n",
       "0           39467  This is Phineas. He's a mystical boy. Only eve...   \n",
       "1           33819  This is Tilly. She's just checking pup on you....   \n",
       "2           25461  This is Archie. He is a rare Norwegian Pouncin...   \n",
       "3           42908  This is Darla. She commenced a snooze mid meal...   \n",
       "4           41048  This is Franklin. He would like you to stop ca...   \n",
       "\n",
       "   retweet_count            tweet_id  \n",
       "0           8853  892420643555336193  \n",
       "1           6514  892177421306343426  \n",
       "2           4328  891815181378084864  \n",
       "3           8964  891689557279858688  \n",
       "4           9774  891327558926688256  "
      ]
     },
     "execution_count": 1170,
     "metadata": {},
     "output_type": "execute_result"
    }
   ],
   "source": [
    "tweet_df.head()"
   ]
  },
  {
   "cell_type": "code",
   "execution_count": 1171,
   "metadata": {},
   "outputs": [
    {
     "name": "stdout",
     "output_type": "stream",
     "text": [
      "<class 'pandas.core.frame.DataFrame'>\n",
      "RangeIndex: 2354 entries, 0 to 2353\n",
      "Data columns (total 4 columns):\n",
      "favorite_count    2354 non-null int64\n",
      "full_text         2354 non-null object\n",
      "retweet_count     2354 non-null int64\n",
      "tweet_id          2354 non-null int64\n",
      "dtypes: int64(3), object(1)\n",
      "memory usage: 73.6+ KB\n"
     ]
    }
   ],
   "source": [
    "tweet_df.info()"
   ]
  },
  {
   "cell_type": "markdown",
   "metadata": {},
   "source": [
    "## 5.1 - tweet_id column fix"
   ]
  },
  {
   "cell_type": "code",
   "execution_count": 1172,
   "metadata": {},
   "outputs": [],
   "source": [
    "tweet_df['tweet_id'] = tweet_df.tweet_id.astype(str)"
   ]
  },
  {
   "cell_type": "code",
   "execution_count": 1173,
   "metadata": {},
   "outputs": [
    {
     "name": "stdout",
     "output_type": "stream",
     "text": [
      "<class 'pandas.core.frame.DataFrame'>\n",
      "RangeIndex: 2354 entries, 0 to 2353\n",
      "Data columns (total 4 columns):\n",
      "favorite_count    2354 non-null int64\n",
      "full_text         2354 non-null object\n",
      "retweet_count     2354 non-null int64\n",
      "tweet_id          2354 non-null object\n",
      "dtypes: int64(2), object(2)\n",
      "memory usage: 73.6+ KB\n"
     ]
    }
   ],
   "source": [
    "tweet_df.info()"
   ]
  },
  {
   "cell_type": "code",
   "execution_count": 1174,
   "metadata": {},
   "outputs": [
    {
     "data": {
      "text/plain": [
       "favorite_count    0\n",
       "full_text         0\n",
       "retweet_count     0\n",
       "tweet_id          0\n",
       "dtype: int64"
      ]
     },
     "execution_count": 1174,
     "metadata": {},
     "output_type": "execute_result"
    }
   ],
   "source": [
    "tweet_df.isnull().sum()"
   ]
  },
  {
   "cell_type": "markdown",
   "metadata": {},
   "source": [
    "# 6 - Merge Section\n",
    "\n",
    "Cleaned data will be merged using the tweet_id columns in all tables. the result will be a master dataframe which will be referened as **master_df**\n",
    "\n",
    "having a clean copy of the original tables. "
   ]
  },
  {
   "cell_type": "code",
   "execution_count": 1175,
   "metadata": {},
   "outputs": [],
   "source": [
    "archive_clean = archive.copy()\n",
    "image_p_clean = image_prediction.copy()\n",
    "tweet_df_clean = tweet_df.copy()"
   ]
  },
  {
   "cell_type": "markdown",
   "metadata": {},
   "source": [
    "## 6.1 - Merge dataframes & Master df"
   ]
  },
  {
   "cell_type": "code",
   "execution_count": 1176,
   "metadata": {},
   "outputs": [],
   "source": [
    "merge_df = pd.merge(archive_clean,image_p_clean, on='tweet_id')"
   ]
  },
  {
   "cell_type": "code",
   "execution_count": 1177,
   "metadata": {},
   "outputs": [
    {
     "name": "stdout",
     "output_type": "stream",
     "text": [
      "<class 'pandas.core.frame.DataFrame'>\n",
      "Int64Index: 1625 entries, 0 to 1624\n",
      "Data columns (total 14 columns):\n",
      "tweet_id         1625 non-null object\n",
      "timestamp        1625 non-null datetime64[ns]\n",
      "source           1625 non-null object\n",
      "text             1625 non-null object\n",
      "expanded_urls    1625 non-null object\n",
      "name             1625 non-null object\n",
      "Stage            1625 non-null object\n",
      "score            1625 non-null float64\n",
      "jpg_url          1625 non-null object\n",
      "img_num          1625 non-null int64\n",
      "p1               1625 non-null object\n",
      "p2               1625 non-null object\n",
      "p3               1625 non-null object\n",
      "Pt               1625 non-null float64\n",
      "dtypes: datetime64[ns](1), float64(2), int64(1), object(10)\n",
      "memory usage: 190.4+ KB\n"
     ]
    }
   ],
   "source": [
    "merge_df.info()"
   ]
  },
  {
   "cell_type": "code",
   "execution_count": 1178,
   "metadata": {},
   "outputs": [],
   "source": [
    "master_df = pd.merge(merge_df,tweet_df_clean, on='tweet_id')"
   ]
  },
  {
   "cell_type": "markdown",
   "metadata": {},
   "source": [
    "**after merging** found that two columns are identical, one will be removed. "
   ]
  },
  {
   "cell_type": "code",
   "execution_count": 1179,
   "metadata": {},
   "outputs": [
    {
     "data": {
      "text/plain": [
       "0"
      ]
     },
     "execution_count": 1179,
     "metadata": {},
     "output_type": "execute_result"
    }
   ],
   "source": [
    "sum(master_df['text'] != master_df['full_text'])"
   ]
  },
  {
   "cell_type": "code",
   "execution_count": 1180,
   "metadata": {
    "scrolled": true
   },
   "outputs": [
    {
     "data": {
      "text/html": [
       "<div>\n",
       "<style scoped>\n",
       "    .dataframe tbody tr th:only-of-type {\n",
       "        vertical-align: middle;\n",
       "    }\n",
       "\n",
       "    .dataframe tbody tr th {\n",
       "        vertical-align: top;\n",
       "    }\n",
       "\n",
       "    .dataframe thead th {\n",
       "        text-align: right;\n",
       "    }\n",
       "</style>\n",
       "<table border=\"1\" class=\"dataframe\">\n",
       "  <thead>\n",
       "    <tr style=\"text-align: right;\">\n",
       "      <th></th>\n",
       "      <th>score</th>\n",
       "      <th>img_num</th>\n",
       "      <th>Pt</th>\n",
       "      <th>favorite_count</th>\n",
       "      <th>retweet_count</th>\n",
       "    </tr>\n",
       "  </thead>\n",
       "  <tbody>\n",
       "    <tr>\n",
       "      <th>count</th>\n",
       "      <td>1625.000000</td>\n",
       "      <td>1625.000000</td>\n",
       "      <td>1625.000000</td>\n",
       "      <td>1625.000000</td>\n",
       "      <td>1625.000000</td>\n",
       "    </tr>\n",
       "    <tr>\n",
       "      <th>mean</th>\n",
       "      <td>1.077757</td>\n",
       "      <td>1.224000</td>\n",
       "      <td>0.610647</td>\n",
       "      <td>8790.241846</td>\n",
       "      <td>2567.609231</td>\n",
       "    </tr>\n",
       "    <tr>\n",
       "      <th>std</th>\n",
       "      <td>0.179817</td>\n",
       "      <td>0.585363</td>\n",
       "      <td>0.265733</td>\n",
       "      <td>11369.031088</td>\n",
       "      <td>3668.105207</td>\n",
       "    </tr>\n",
       "    <tr>\n",
       "      <th>min</th>\n",
       "      <td>0.000000</td>\n",
       "      <td>1.000000</td>\n",
       "      <td>0.044333</td>\n",
       "      <td>81.000000</td>\n",
       "      <td>16.000000</td>\n",
       "    </tr>\n",
       "    <tr>\n",
       "      <th>25%</th>\n",
       "      <td>1.000000</td>\n",
       "      <td>1.000000</td>\n",
       "      <td>0.382220</td>\n",
       "      <td>2115.000000</td>\n",
       "      <td>632.000000</td>\n",
       "    </tr>\n",
       "    <tr>\n",
       "      <th>50%</th>\n",
       "      <td>1.100000</td>\n",
       "      <td>1.000000</td>\n",
       "      <td>0.610946</td>\n",
       "      <td>4229.000000</td>\n",
       "      <td>1392.000000</td>\n",
       "    </tr>\n",
       "    <tr>\n",
       "      <th>75%</th>\n",
       "      <td>1.200000</td>\n",
       "      <td>1.000000</td>\n",
       "      <td>0.858494</td>\n",
       "      <td>11310.000000</td>\n",
       "      <td>3144.000000</td>\n",
       "    </tr>\n",
       "    <tr>\n",
       "      <th>max</th>\n",
       "      <td>1.400000</td>\n",
       "      <td>4.000000</td>\n",
       "      <td>0.999984</td>\n",
       "      <td>132810.000000</td>\n",
       "      <td>48265.000000</td>\n",
       "    </tr>\n",
       "  </tbody>\n",
       "</table>\n",
       "</div>"
      ],
      "text/plain": [
       "             score      img_num           Pt  favorite_count  retweet_count\n",
       "count  1625.000000  1625.000000  1625.000000     1625.000000    1625.000000\n",
       "mean      1.077757     1.224000     0.610647     8790.241846    2567.609231\n",
       "std       0.179817     0.585363     0.265733    11369.031088    3668.105207\n",
       "min       0.000000     1.000000     0.044333       81.000000      16.000000\n",
       "25%       1.000000     1.000000     0.382220     2115.000000     632.000000\n",
       "50%       1.100000     1.000000     0.610946     4229.000000    1392.000000\n",
       "75%       1.200000     1.000000     0.858494    11310.000000    3144.000000\n",
       "max       1.400000     4.000000     0.999984   132810.000000   48265.000000"
      ]
     },
     "execution_count": 1180,
     "metadata": {},
     "output_type": "execute_result"
    }
   ],
   "source": [
    "master_df.drop('text',axis=1,inplace=True)\n",
    "master_df.to_csv('twitter_archive_master.csv')\n",
    "master_df.describe()"
   ]
  },
  {
   "cell_type": "markdown",
   "metadata": {},
   "source": [
    "**Merge** was seccessfull !!"
   ]
  },
  {
   "cell_type": "markdown",
   "metadata": {},
   "source": [
    "# 7 - Visualization"
   ]
  },
  {
   "cell_type": "markdown",
   "metadata": {},
   "source": [
    "for this part, we would look to numerical values and understand thier relationships and furhter plot their values when possiple. line, pie, histograms and / or heatmaps plots will be used to visualize the data from the master dataframe. "
   ]
  },
  {
   "cell_type": "code",
   "execution_count": 1181,
   "metadata": {
    "scrolled": true
   },
   "outputs": [
    {
     "name": "stdout",
     "output_type": "stream",
     "text": [
      "<class 'pandas.core.frame.DataFrame'>\n",
      "Int64Index: 1625 entries, 0 to 1624\n",
      "Data columns (total 16 columns):\n",
      "tweet_id          1625 non-null object\n",
      "timestamp         1625 non-null datetime64[ns]\n",
      "source            1625 non-null object\n",
      "expanded_urls     1625 non-null object\n",
      "name              1625 non-null object\n",
      "Stage             1625 non-null object\n",
      "score             1625 non-null float64\n",
      "jpg_url           1625 non-null object\n",
      "img_num           1625 non-null int64\n",
      "p1                1625 non-null object\n",
      "p2                1625 non-null object\n",
      "p3                1625 non-null object\n",
      "Pt                1625 non-null float64\n",
      "favorite_count    1625 non-null int64\n",
      "full_text         1625 non-null object\n",
      "retweet_count     1625 non-null int64\n",
      "dtypes: datetime64[ns](1), float64(2), int64(3), object(10)\n",
      "memory usage: 215.8+ KB\n"
     ]
    }
   ],
   "source": [
    "master_df.info()"
   ]
  },
  {
   "cell_type": "code",
   "execution_count": 1182,
   "metadata": {
    "scrolled": true
   },
   "outputs": [
    {
     "data": {
      "text/html": [
       "<div>\n",
       "<style scoped>\n",
       "    .dataframe tbody tr th:only-of-type {\n",
       "        vertical-align: middle;\n",
       "    }\n",
       "\n",
       "    .dataframe tbody tr th {\n",
       "        vertical-align: top;\n",
       "    }\n",
       "\n",
       "    .dataframe thead th {\n",
       "        text-align: right;\n",
       "    }\n",
       "</style>\n",
       "<table border=\"1\" class=\"dataframe\">\n",
       "  <thead>\n",
       "    <tr style=\"text-align: right;\">\n",
       "      <th></th>\n",
       "      <th>score</th>\n",
       "      <th>img_num</th>\n",
       "      <th>Pt</th>\n",
       "      <th>favorite_count</th>\n",
       "      <th>retweet_count</th>\n",
       "    </tr>\n",
       "  </thead>\n",
       "  <tbody>\n",
       "    <tr>\n",
       "      <th>count</th>\n",
       "      <td>1625.000000</td>\n",
       "      <td>1625.000000</td>\n",
       "      <td>1625.000000</td>\n",
       "      <td>1625.000000</td>\n",
       "      <td>1625.000000</td>\n",
       "    </tr>\n",
       "    <tr>\n",
       "      <th>mean</th>\n",
       "      <td>1.077757</td>\n",
       "      <td>1.224000</td>\n",
       "      <td>0.610647</td>\n",
       "      <td>8790.241846</td>\n",
       "      <td>2567.609231</td>\n",
       "    </tr>\n",
       "    <tr>\n",
       "      <th>std</th>\n",
       "      <td>0.179817</td>\n",
       "      <td>0.585363</td>\n",
       "      <td>0.265733</td>\n",
       "      <td>11369.031088</td>\n",
       "      <td>3668.105207</td>\n",
       "    </tr>\n",
       "    <tr>\n",
       "      <th>min</th>\n",
       "      <td>0.000000</td>\n",
       "      <td>1.000000</td>\n",
       "      <td>0.044333</td>\n",
       "      <td>81.000000</td>\n",
       "      <td>16.000000</td>\n",
       "    </tr>\n",
       "    <tr>\n",
       "      <th>25%</th>\n",
       "      <td>1.000000</td>\n",
       "      <td>1.000000</td>\n",
       "      <td>0.382220</td>\n",
       "      <td>2115.000000</td>\n",
       "      <td>632.000000</td>\n",
       "    </tr>\n",
       "    <tr>\n",
       "      <th>50%</th>\n",
       "      <td>1.100000</td>\n",
       "      <td>1.000000</td>\n",
       "      <td>0.610946</td>\n",
       "      <td>4229.000000</td>\n",
       "      <td>1392.000000</td>\n",
       "    </tr>\n",
       "    <tr>\n",
       "      <th>75%</th>\n",
       "      <td>1.200000</td>\n",
       "      <td>1.000000</td>\n",
       "      <td>0.858494</td>\n",
       "      <td>11310.000000</td>\n",
       "      <td>3144.000000</td>\n",
       "    </tr>\n",
       "    <tr>\n",
       "      <th>max</th>\n",
       "      <td>1.400000</td>\n",
       "      <td>4.000000</td>\n",
       "      <td>0.999984</td>\n",
       "      <td>132810.000000</td>\n",
       "      <td>48265.000000</td>\n",
       "    </tr>\n",
       "  </tbody>\n",
       "</table>\n",
       "</div>"
      ],
      "text/plain": [
       "             score      img_num           Pt  favorite_count  retweet_count\n",
       "count  1625.000000  1625.000000  1625.000000     1625.000000    1625.000000\n",
       "mean      1.077757     1.224000     0.610647     8790.241846    2567.609231\n",
       "std       0.179817     0.585363     0.265733    11369.031088    3668.105207\n",
       "min       0.000000     1.000000     0.044333       81.000000      16.000000\n",
       "25%       1.000000     1.000000     0.382220     2115.000000     632.000000\n",
       "50%       1.100000     1.000000     0.610946     4229.000000    1392.000000\n",
       "75%       1.200000     1.000000     0.858494    11310.000000    3144.000000\n",
       "max       1.400000     4.000000     0.999984   132810.000000   48265.000000"
      ]
     },
     "execution_count": 1182,
     "metadata": {},
     "output_type": "execute_result"
    }
   ],
   "source": [
    "master_df.describe()"
   ]
  },
  {
   "cell_type": "code",
   "execution_count": 1183,
   "metadata": {
    "scrolled": true
   },
   "outputs": [
    {
     "data": {
      "text/html": [
       "<div>\n",
       "<style scoped>\n",
       "    .dataframe tbody tr th:only-of-type {\n",
       "        vertical-align: middle;\n",
       "    }\n",
       "\n",
       "    .dataframe tbody tr th {\n",
       "        vertical-align: top;\n",
       "    }\n",
       "\n",
       "    .dataframe thead th {\n",
       "        text-align: right;\n",
       "    }\n",
       "</style>\n",
       "<table border=\"1\" class=\"dataframe\">\n",
       "  <thead>\n",
       "    <tr style=\"text-align: right;\">\n",
       "      <th></th>\n",
       "      <th>score</th>\n",
       "      <th>img_num</th>\n",
       "      <th>Pt</th>\n",
       "      <th>favorite_count</th>\n",
       "      <th>retweet_count</th>\n",
       "    </tr>\n",
       "  </thead>\n",
       "  <tbody>\n",
       "    <tr>\n",
       "      <th>score</th>\n",
       "      <td>1.000000</td>\n",
       "      <td>0.192659</td>\n",
       "      <td>0.128051</td>\n",
       "      <td>0.423199</td>\n",
       "      <td>0.335508</td>\n",
       "    </tr>\n",
       "    <tr>\n",
       "      <th>img_num</th>\n",
       "      <td>0.192659</td>\n",
       "      <td>1.000000</td>\n",
       "      <td>0.212841</td>\n",
       "      <td>0.156067</td>\n",
       "      <td>0.151548</td>\n",
       "    </tr>\n",
       "    <tr>\n",
       "      <th>Pt</th>\n",
       "      <td>0.128051</td>\n",
       "      <td>0.212841</td>\n",
       "      <td>1.000000</td>\n",
       "      <td>0.117423</td>\n",
       "      <td>0.108307</td>\n",
       "    </tr>\n",
       "    <tr>\n",
       "      <th>favorite_count</th>\n",
       "      <td>0.423199</td>\n",
       "      <td>0.156067</td>\n",
       "      <td>0.117423</td>\n",
       "      <td>1.000000</td>\n",
       "      <td>0.925982</td>\n",
       "    </tr>\n",
       "    <tr>\n",
       "      <th>retweet_count</th>\n",
       "      <td>0.335508</td>\n",
       "      <td>0.151548</td>\n",
       "      <td>0.108307</td>\n",
       "      <td>0.925982</td>\n",
       "      <td>1.000000</td>\n",
       "    </tr>\n",
       "  </tbody>\n",
       "</table>\n",
       "</div>"
      ],
      "text/plain": [
       "                   score   img_num        Pt  favorite_count  retweet_count\n",
       "score           1.000000  0.192659  0.128051        0.423199       0.335508\n",
       "img_num         0.192659  1.000000  0.212841        0.156067       0.151548\n",
       "Pt              0.128051  0.212841  1.000000        0.117423       0.108307\n",
       "favorite_count  0.423199  0.156067  0.117423        1.000000       0.925982\n",
       "retweet_count   0.335508  0.151548  0.108307        0.925982       1.000000"
      ]
     },
     "execution_count": 1183,
     "metadata": {},
     "output_type": "execute_result"
    }
   ],
   "source": [
    "master_df.corr()"
   ]
  },
  {
   "cell_type": "code",
   "execution_count": 1184,
   "metadata": {},
   "outputs": [
    {
     "data": {
      "text/plain": [
       "0"
      ]
     },
     "execution_count": 1184,
     "metadata": {},
     "output_type": "execute_result"
    }
   ],
   "source": [
    "master_df.duplicated().sum()"
   ]
  },
  {
   "cell_type": "markdown",
   "metadata": {},
   "source": [
    "## 7.1 - Corrleation Testing\n",
    "\n",
    "favourites and retweets tend to have strong positive relationship. "
   ]
  },
  {
   "cell_type": "code",
   "execution_count": 1185,
   "metadata": {},
   "outputs": [
    {
     "data": {
      "image/png": "[encoded data removed]",
      "text/plain": [
       "<Figure size 720x432 with 2 Axes>"
      ]
     },
     "metadata": {
      "needs_background": "light"
     },
     "output_type": "display_data"
    }
   ],
   "source": [
    "plt.figure(figsize=(10,6))\n",
    "sns.heatmap(master_df.corr(),annot=True,cmap='coolwarm',linewidths=1)\n",
    "plt.title('WaterDog tweets correlation heatmap')\n",
    "plt.savefig('corr_heatmap.png');"
   ]
  },
  {
   "cell_type": "code",
   "execution_count": 1186,
   "metadata": {
    "scrolled": false
   },
   "outputs": [
    {
     "data": {
      "image/png": "[encoded data removed]",
      "text/plain": [
       "<Figure size 576x360 with 1 Axes>"
      ]
     },
     "metadata": {
      "needs_background": "light"
     },
     "output_type": "display_data"
    }
   ],
   "source": [
    "plt.figure(figsize=(8,5))\n",
    "plt.scatter(master_df['retweet_count'], master_df['favorite_count'])\n",
    "plt.title('Retweet / Favorites Scatter')\n",
    "plt.xlabel('Retweet Count')\n",
    "plt.ylabel('Favourite Count')\n",
    "plt.savefig('scatter.png');"
   ]
  },
  {
   "cell_type": "markdown",
   "metadata": {},
   "source": [
    "## 7.2 - Linear plots\n",
    "\n",
    "\n"
   ]
  },
  {
   "cell_type": "code",
   "execution_count": 1187,
   "metadata": {},
   "outputs": [
    {
     "data": {
      "text/plain": [
       "<Figure size 1080x576 with 0 Axes>"
      ]
     },
     "metadata": {},
     "output_type": "display_data"
    },
    {
     "data": {
      "image/png": "[encoded data removed]",
      "text/plain": [
       "<Figure size 432x288 with 1 Axes>"
      ]
     },
     "metadata": {
      "needs_background": "light"
     },
     "output_type": "display_data"
    }
   ],
   "source": [
    "plt.figure(figsize=(15,8))\n",
    "master_df.plot(x='timestamp' , y='score',color='g');\n",
    "plt.title('Rating Score')\n",
    "plt.xlabel('Time')\n",
    "plt.ylabel('Score')\n",
    "plt.savefig('score_line.png');\n",
    "plt.show();"
   ]
  },
  {
   "cell_type": "markdown",
   "metadata": {},
   "source": [
    "## 7.3 - Tweets Percentages\n",
    "\n"
   ]
  },
  {
   "cell_type": "code",
   "execution_count": 1188,
   "metadata": {},
   "outputs": [
    {
     "data": {
      "image/png": "[encoded data removed]",
      "text/plain": [
       "<Figure size 576x576 with 1 Axes>"
      ]
     },
     "metadata": {},
     "output_type": "display_data"
    }
   ],
   "source": [
    "by_month = master_df.timestamp.dt.month_name()\n",
    "explode=np.zeros(12)\n",
    "plt.figure(figsize=(8,8))\n",
    "master_df.groupby(by_month).tweet_id.count().plot(kind='pie' , explode=explode+0.08 , autopct='%1.1f%%',\n",
    "        shadow=True, startangle=30)\n",
    "plt.title('Percentage of tweets / Month')\n",
    "plt.ylabel('');\n",
    "plt.savefig('tweet_pie_month.png');"
   ]
  },
  {
   "cell_type": "code",
   "execution_count": 1189,
   "metadata": {},
   "outputs": [
    {
     "data": {
      "image/png": "[encoded data removed]",
      "text/plain": [
       "<Figure size 576x576 with 1 Axes>"
      ]
     },
     "metadata": {},
     "output_type": "display_data"
    }
   ],
   "source": [
    "explode=np.zeros(3)\n",
    "plt.figure(figsize=(8,8))\n",
    "master_df.groupby(by_year).tweet_id.count().plot(kind='pie' , explode=explode+0.03 , autopct='%1.1f%%',\n",
    "        shadow=True, startangle=30)\n",
    "plt.title('Percentage of tweets / Year')\n",
    "plt.ylabel('');\n",
    "plt.savefig('tweet_pie_year.png');"
   ]
  },
  {
   "cell_type": "markdown",
   "metadata": {},
   "source": [
    "## 7.4 - Normal Distribtion \n",
    "\n"
   ]
  },
  {
   "cell_type": "code",
   "execution_count": 1190,
   "metadata": {},
   "outputs": [
    {
     "data": {
      "image/png": "[encoded data removed]",
      "text/plain": [
       "<Figure size 576x432 with 1 Axes>"
      ]
     },
     "metadata": {
      "needs_background": "light"
     },
     "output_type": "display_data"
    }
   ],
   "source": [
    "plt.figure(figsize=(8,6))\n",
    "master_df.favorite_count.hist(alpha=0.5 , label='Favorites')\n",
    "master_df.retweet_count.hist(alpha=0.5 , label='Retweets')\n",
    "\n",
    "plt.title('Favorites / Retweets Distribuion')\n",
    "plt.xlabel('Value')\n",
    "plt.ylabel('Count')\n",
    "plt.legend();\n",
    "plt.savefig('hist.png');"
   ]
  },
  {
   "cell_type": "code",
   "execution_count": null,
   "metadata": {},
   "outputs": [],
   "source": []
  }
 ],
 "metadata": {
  "kernelspec": {
   "display_name": "Python 3",
   "language": "python",
   "name": "python3"
  },
  "language_info": {
   "codemirror_mode": {
    "name": "ipython",
    "version": 3
   },
   "file_extension": ".py",
   "mimetype": "text/x-python",
   "name": "python",
   "nbconvert_exporter": "python",
   "pygments_lexer": "ipython3",
   "version": "3.7.1"
  }
 },
 "nbformat": 4,
 "nbformat_minor": 2
}
